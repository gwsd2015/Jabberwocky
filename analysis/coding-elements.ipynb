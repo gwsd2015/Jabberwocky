{
 "metadata": {
  "name": "",
  "signature": "sha256:fbb20f168d91b1e96506428278cdab79cd24f4e24241fdef38def629e63fde30"
 },
 "nbformat": 3,
 "nbformat_minor": 0,
 "worksheets": [
  {
   "cells": [
    {
     "cell_type": "code",
     "collapsed": false,
     "input": [
      "import re"
     ],
     "language": "python",
     "metadata": {},
     "outputs": [],
     "prompt_number": 32
    },
    {
     "cell_type": "code",
     "collapsed": false,
     "input": [
      "def forLoops():\n",
      "    print \"Finding For Loops\""
     ],
     "language": "python",
     "metadata": {},
     "outputs": [],
     "prompt_number": 33
    },
    {
     "cell_type": "code",
     "collapsed": false,
     "input": [
      "test = r\"public static int adder(int a, int b)\"\n",
      "x = re.search(r.,test)\n",
      "if x:\n",
      "    print \"Valid\"\n",
      "    print x.string\n",
      "else: print \"Not Valid\""
     ],
     "language": "python",
     "metadata": {},
     "outputs": [
      {
       "output_type": "stream",
       "stream": "stdout",
       "text": [
        "Valid\n",
        "public static int adder(int a, int b){\n"
       ]
      }
     ],
     "prompt_number": 51
    },
    {
     "cell_type": "code",
     "collapsed": false,
     "input": [
      "f = open(\"HelloWorld.java\",\"r\")\n",
      "\n",
      "for line in f:\n",
      "    #print line\n",
      "    #x = re.search(r\"(public|protected|private|static|\\s) +[\\w\\<\\>\\[\\]]+\\s+(\\w+) *\\([^\\)]*\\) *(\\{?|[^;])\",line)\n",
      "    x = re.search(r\"(public|private|protected|static|final|native|synchronized|abstract|threadsafe|transient\\s) +[\\w\\<\\>\\[\\]]+\\s+(\\w+) *\\([^\\)]*\\) *(\\{?|[^;])\",line)\n",
      "    if x:\n",
      "       print x.string\n",
      "    #print p.match()\n",
      "    "
     ],
     "language": "python",
     "metadata": {},
     "outputs": [
      {
       "output_type": "stream",
       "stream": "stdout",
       "text": [
        "\tpublic static void main(String[] args)\n",
        "\n",
        "\tpublic static int adder(int a, int b)\n",
        "\n",
        "\tpublic static int sub(int a, int b)\n",
        "\n"
       ]
      }
     ],
     "prompt_number": 57
    },
    {
     "cell_type": "code",
     "collapsed": false,
     "input": [
      "(public|protected|private|static|\\s) +[\\w\\<\\>\\[\\]]+\\s+(\\w+) *\\([^\\)]*\\) *(\\{?|[^;])\n"
     ],
     "language": "python",
     "metadata": {},
     "outputs": [
      {
       "ename": "SyntaxError",
       "evalue": "unexpected character after line continuation character (<ipython-input-35-0f426cfcd097>, line 1)",
       "output_type": "pyerr",
       "traceback": [
        "\u001b[0;36m  File \u001b[0;32m\"<ipython-input-35-0f426cfcd097>\"\u001b[0;36m, line \u001b[0;32m1\u001b[0m\n\u001b[0;31m    (public|protected|private|static|\\s) +[\\w\\<\\>\\[\\]]+\\s+(\\w+) *\\([^\\)]*\\) *(\\{?|[^;])\u001b[0m\n\u001b[0m                                                                                       ^\u001b[0m\n\u001b[0;31mSyntaxError\u001b[0m\u001b[0;31m:\u001b[0m unexpected character after line continuation character\n"
       ]
      }
     ],
     "prompt_number": 35
    },
    {
     "cell_type": "code",
     "collapsed": false,
     "input": [],
     "language": "python",
     "metadata": {},
     "outputs": [],
     "prompt_number": 35
    }
   ],
   "metadata": {}
  }
 ]
}