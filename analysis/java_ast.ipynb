{
 "metadata": {
  "name": "",
  "signature": "sha256:fcf1243c158458bad51d641722422612cf72589df14d6b35e1ffab1e29b969d6"
 },
 "nbformat": 3,
 "nbformat_minor": 0,
 "worksheets": [
  {
   "cells": [
    {
     "cell_type": "code",
     "collapsed": false,
     "input": [
      "import re"
     ],
     "language": "python",
     "metadata": {},
     "outputs": [],
     "prompt_number": 199
    },
    {
     "cell_type": "code",
     "collapsed": false,
     "input": [
      "class Node:\n",
      "    def __init__(self,data,parent):\n",
      "        self.data = data\n",
      "        self.children = []\n",
      "        self.parent = parent\n",
      "    def addChild(self,node):\n",
      "        self.children.append(node)\n",
      "    \n",
      "    def printChildren(self):\n",
      "        for x in range(len(self.children)):\n",
      "            print self.children[x]"
     ],
     "language": "python",
     "metadata": {},
     "outputs": [],
     "prompt_number": 200
    },
    {
     "cell_type": "code",
     "collapsed": false,
     "input": [
      "#Open us all of information about file\n",
      "f = open(\"HelloWorld.java\",\"r\")\n",
      "program = []\n",
      "for line in f:\n",
      "    program.append(line)\n",
      "print program"
     ],
     "language": "python",
     "metadata": {},
     "outputs": [
      {
       "output_type": "stream",
       "stream": "stdout",
       "text": [
        "['import java.util;\\n', 'import java.tools;\\n', '\\n', 'public class HelloWorld{\\n', '\\n', '\\n', '\\tpublic static void main(String[] args)\\n', '\\t{\\n', '\\t\\tSystem.out.println(\"Hello World\");\\n', '\\t\\tint x = 5;\\n', '\\t\\tint y = 7;\\n', '\\t\\tint z = adder(x,y);\\n', '\\t\\tSystem.out.println(\"The value of z is \"+z);\\n', '\\n', '\\t}\\n', '\\n', '\\n', '\\n', '\\tpublic static int adder(int a, int b)\\n', '\\t{\\n', '\\t\\tint c;\\n', '\\t\\tc = a +b;\\n', '\\t\\tc = sub((a+b)+(a+b),c);\\n', '\\t\\treturn c;\\n', '\\t}\\n', '\\n', '\\n', '\\tpublic static int sub(int a, int b)\\n', '\\t{\\n', '\\t\\tint c;\\n', '\\t\\tc = b-a;\\n', '\\t\\treturn c;\\n', '\\t}\\n', '\\n', '}']\n"
       ]
      }
     ],
     "prompt_number": 201
    },
    {
     "cell_type": "code",
     "collapsed": false,
     "input": [],
     "language": "python",
     "metadata": {},
     "outputs": [],
     "prompt_number": 202
    },
    {
     "cell_type": "code",
     "collapsed": false,
     "input": [],
     "language": "python",
     "metadata": {},
     "outputs": [],
     "prompt_number": 203
    },
    {
     "cell_type": "markdown",
     "metadata": {},
     "source": [
      "\n",
      "    "
     ]
    },
    {
     "cell_type": "code",
     "collapsed": false,
     "input": [
      "def makeTree(tree,program):\n",
      "    tempTree= tree\n",
      "    currentParent = tree\n",
      "    cont = False\n",
      "    for i in range(len(program)):\n",
      "        #print \"i is \"+str(i)\n",
      "        if cont == True:\n",
      "            cont = False\n",
      "            continue\n",
      "        if i == len(program)-1:\n",
      "           print \"end\" \n",
      "        elif \"{\" in program[i]:\n",
      "            #print \"start1\"\n",
      "            currentParent.children.append(Node(program[i],currentParent))\n",
      "            currentParent = currentParent.children[len(currentParent.children)-1]\n",
      "        elif \"{\" in program[i+1] and program[i+1].strip().find(\"{\")==0:\n",
      "            #print \"start2\"\n",
      "            currentParent.children.append(Node(program[i],currentParent))\n",
      "            currentParent = currentParent.children[len(currentParent.children)-1]\n",
      "            cont = True\n",
      "        elif \"}\" in program[i]:\n",
      "            #print \"start3\"\n",
      "            currentParent = currentParent.children[len(currentParent.children)-1].parent.parent\n",
      "        else:\n",
      "            #print \"start4\"\n",
      "            if(program[i].strip() != \"\"):\n",
      "                currentParent.children.append(Node(program[i],currentParent))\n",
      "    return tempTree"
     ],
     "language": "python",
     "metadata": {},
     "outputs": [],
     "prompt_number": 219
    },
    {
     "cell_type": "code",
     "collapsed": false,
     "input": [
      "tree = makeTree(Node(\"START\",None),program)"
     ],
     "language": "python",
     "metadata": {},
     "outputs": [
      {
       "output_type": "stream",
       "stream": "stdout",
       "text": [
        "end\n"
       ]
      }
     ],
     "prompt_number": 220
    },
    {
     "cell_type": "code",
     "collapsed": false,
     "input": [
      "for i in range(len(tree.children)):\n",
      "    print tree.children[i].data\n",
      "print \"Children:\"\n",
      "for i in range(len(tree.children[2].children)):\n",
      "    print tree.children[2].children[i].data"
     ],
     "language": "python",
     "metadata": {},
     "outputs": [
      {
       "output_type": "stream",
       "stream": "stdout",
       "text": [
        "import java.util;\n",
        "\n",
        "import java.tools;\n",
        "\n",
        "public class HelloWorld{\n",
        "\n",
        "Children:\n",
        "\tpublic static void main(String[] args)\n",
        "\n",
        "\tpublic static int adder(int a, int b)\n",
        "\n",
        "\tpublic static int sub(int a, int b)\n",
        "\n"
       ]
      }
     ],
     "prompt_number": 221
    },
    {
     "cell_type": "code",
     "collapsed": false,
     "input": [],
     "language": "python",
     "metadata": {},
     "outputs": [],
     "prompt_number": 222
    },
    {
     "cell_type": "code",
     "collapsed": false,
     "input": [
      "def printTree(tree):\n",
      "    for i in range(len(tree.children)):\n",
      "        print tree.children[i].data.strip()+ \"---> Parent is \"+tree.children[i].parent.data\n",
      "    for i in range(len(tree.children)):\n",
      "        printTree(tree.children[i])\n",
      "    return"
     ],
     "language": "python",
     "metadata": {},
     "outputs": [],
     "prompt_number": 223
    },
    {
     "cell_type": "code",
     "collapsed": false,
     "input": [],
     "language": "python",
     "metadata": {},
     "outputs": [],
     "prompt_number": 223
    },
    {
     "cell_type": "code",
     "collapsed": false,
     "input": [
      "printTree(tree)"
     ],
     "language": "python",
     "metadata": {},
     "outputs": [
      {
       "output_type": "stream",
       "stream": "stdout",
       "text": [
        "import java.util;---> Parent is START\n",
        "import java.tools;---> Parent is START\n",
        "public class HelloWorld{---> Parent is START\n",
        "public static void main(String[] args)---> Parent is public class HelloWorld{\n",
        "\n",
        "public static int adder(int a, int b)---> Parent is public class HelloWorld{\n",
        "\n",
        "public static int sub(int a, int b)---> Parent is public class HelloWorld{\n",
        "\n",
        "System.out.println(\"Hello World\");---> Parent is \tpublic static void main(String[] args)\n",
        "\n",
        "int x = 5;---> Parent is \tpublic static void main(String[] args)\n",
        "\n",
        "int y = 7;---> Parent is \tpublic static void main(String[] args)\n",
        "\n",
        "int z = adder(x,y);---> Parent is \tpublic static void main(String[] args)\n",
        "\n",
        "System.out.println(\"The value of z is \"+z);---> Parent is \tpublic static void main(String[] args)\n",
        "\n",
        "int c;---> Parent is \tpublic static int adder(int a, int b)\n",
        "\n",
        "c = a +b;---> Parent is \tpublic static int adder(int a, int b)\n",
        "\n",
        "c = sub((a+b)+(a+b),c);---> Parent is \tpublic static int adder(int a, int b)\n",
        "\n",
        "return c;---> Parent is \tpublic static int adder(int a, int b)\n",
        "\n",
        "int c;---> Parent is \tpublic static int sub(int a, int b)\n",
        "\n",
        "c = b-a;---> Parent is \tpublic static int sub(int a, int b)\n",
        "\n",
        "return c;---> Parent is \tpublic static int sub(int a, int b)\n",
        "\n"
       ]
      }
     ],
     "prompt_number": 224
    },
    {
     "cell_type": "code",
     "collapsed": false,
     "input": [],
     "language": "python",
     "metadata": {},
     "outputs": [],
     "prompt_number": 210
    },
    {
     "cell_type": "code",
     "collapsed": false,
     "input": [],
     "language": "python",
     "metadata": {},
     "outputs": [],
     "prompt_number": 210
    }
   ],
   "metadata": {}
  }
 ]
}