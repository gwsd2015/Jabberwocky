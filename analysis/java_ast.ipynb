{
 "metadata": {
  "name": "",
  "signature": "sha256:91d92578fe8a5c6db55cc2a495d448c44a663b26cf0f820df272cd6d02e780e3"
 },
 "nbformat": 3,
 "nbformat_minor": 0,
 "worksheets": [
  {
   "cells": [
    {
     "cell_type": "code",
     "collapsed": false,
     "input": [
      "import re\n",
      "import os\n",
      "import sys\n",
      "import subprocess\n",
      "errorString = \"\"\n",
      "numIfs = 0\n",
      "numFor = 0\n",
      "numWhiles = 0"
     ],
     "language": "python",
     "metadata": {},
     "outputs": [],
     "prompt_number": 36
    },
    {
     "cell_type": "code",
     "collapsed": false,
     "input": [
      "class Node:\n",
      "    def __init__(self,data,parent):\n",
      "        self.data = data\n",
      "        self.children = []\n",
      "        self.parent = parent\n",
      "    def addChild(self,node):\n",
      "        self.children.append(node)\n",
      "    \n",
      "    def printChildren(self):\n",
      "        for x in range(len(self.children)):\n",
      "            print self.children[x]"
     ],
     "language": "python",
     "metadata": {},
     "outputs": [],
     "prompt_number": 21
    },
    {
     "cell_type": "code",
     "collapsed": false,
     "input": [
      "#Open us all of information about file\n",
      "f = open(\"HelloWorld.java\",\"r\")\n",
      "program = []\n",
      "for line in f:\n",
      "    program.append(line)\n",
      "print program"
     ],
     "language": "python",
     "metadata": {},
     "outputs": [
      {
       "output_type": "stream",
       "stream": "stdout",
       "text": [
        "['import java.util.*;\\n', '//import java.tools.*;\\n', '\\n', 'public class HelloWorld{\\n', '\\n', '\\n', '\\tpublic static void main(String[] args)\\n', '\\t{\\n', '\\t\\tSystem.out.println(\"Hello World\");\\n', '\\t\\tint x = 5;\\n', '\\t\\tint y = 7;\\n', '\\t\\tint z = adder(x,y);\\n', '\\t\\tSystem.out.println(\"The value of z is \"+z);\\n', '        String hello = \"Hello World\";\\n', '        for(int i = 0 ; i < hello.length(); i ++ )\\n', '        {\\n', '            System.out.println(\"Hello\");\\n', '        }\\n', '        \\n', '        \\n', '        if( 1 == 2 ){\\n', '            System.out.println(\"Cool\");\\n', '        }\\n', '        \\n', '        if ( x == y )\\n', '        {\\n', '            x++;\\n', '        }\\n', '        \\n', '        \\n', '        \\n', '        for(int i = 0; i< 5; i++)\\n', '        {\\n', '            x++;\\n', '        }\\n', '\\n', '\\t}\\n', '\\n', '\\n', '\\n', '\\tpublic static int adder(int a, int b)\\n', '\\t{\\n', '\\t\\tint c;\\n', '\\t\\tc = a +b;\\n', '\\t\\tc = sub((a+b)+(a+b),c);\\n', '        \\n', '        if( true)\\n', '        {\\n', '            c++;\\n', '        }\\n', '        \\n', '\\t\\treturn c;\\n', '\\t}\\n', '\\n', '\\n', '\\tpublic static int sub(int a, int b)\\n', '\\t{\\n', '\\t\\tint c;\\n', '\\t\\tc = b-a;\\n', '\\t\\treturn c;\\n', '\\t}\\n', '\\n', '}']\n"
       ]
      }
     ],
     "prompt_number": 22
    },
    {
     "cell_type": "code",
     "collapsed": false,
     "input": [],
     "language": "python",
     "metadata": {},
     "outputs": [],
     "prompt_number": 22
    },
    {
     "cell_type": "code",
     "collapsed": false,
     "input": [],
     "language": "python",
     "metadata": {},
     "outputs": [],
     "prompt_number": 22
    },
    {
     "cell_type": "markdown",
     "metadata": {},
     "source": [
      "\n",
      "    "
     ]
    },
    {
     "cell_type": "code",
     "collapsed": false,
     "input": [
      "##Iterative tree builder\n",
      "def makeTree(tree,program):\n",
      "    tempTree= tree\n",
      "    currentParent = tree\n",
      "    cont = False\n",
      "    for i in range(len(program)):\n",
      "        #print \"i is \"+str(i)\n",
      "        if cont == True:\n",
      "            cont = False\n",
      "            continue\n",
      "        if i == len(program)-1:\n",
      "           print \"end\" \n",
      "        elif \"{\" in program[i]:\n",
      "            #print \"start1\"\n",
      "            currentParent.children.append(Node(program[i],currentParent))\n",
      "            currentParent = currentParent.children[len(currentParent.children)-1]\n",
      "        elif \"{\" in program[i+1] and program[i+1].strip().find(\"{\")==0:\n",
      "            #print \"start2\"\n",
      "            currentParent.children.append(Node(program[i],currentParent))\n",
      "            currentParent = currentParent.children[len(currentParent.children)-1]\n",
      "            cont = True\n",
      "        elif \"}\" in program[i]:\n",
      "            #print \"start3\"\n",
      "            currentParent = currentParent.children[len(currentParent.children)-1].parent.parent\n",
      "        else:\n",
      "            #print \"start4\"\n",
      "            if(program[i].strip() != \"\"):\n",
      "                currentParent.children.append(Node(program[i],currentParent))\n",
      "    return tempTree"
     ],
     "language": "python",
     "metadata": {},
     "outputs": [],
     "prompt_number": 23
    },
    {
     "cell_type": "code",
     "collapsed": false,
     "input": [
      "tree = makeTree(Node(\"START\",None),program)"
     ],
     "language": "python",
     "metadata": {},
     "outputs": [
      {
       "output_type": "stream",
       "stream": "stdout",
       "text": [
        "end\n"
       ]
      }
     ],
     "prompt_number": 24
    },
    {
     "cell_type": "code",
     "collapsed": false,
     "input": [
      "for i in range(len(tree.children)):\n",
      "    print tree.children[i].data\n",
      "print \"Children:\"\n",
      "for i in range(len(tree.children[2].children)):\n",
      "    print tree.children[2].children[i].data"
     ],
     "language": "python",
     "metadata": {},
     "outputs": [
      {
       "output_type": "stream",
       "stream": "stdout",
       "text": [
        "import java.util.*;\n",
        "\n",
        "//import java.tools.*;\n",
        "\n",
        "public class HelloWorld{\n",
        "\n",
        "Children:\n",
        "\tpublic static void main(String[] args)\n",
        "\n",
        "\tpublic static int adder(int a, int b)\n",
        "\n",
        "\tpublic static int sub(int a, int b)\n",
        "\n"
       ]
      }
     ],
     "prompt_number": 25
    },
    {
     "cell_type": "code",
     "collapsed": false,
     "input": [],
     "language": "python",
     "metadata": {},
     "outputs": [],
     "prompt_number": 25
    },
    {
     "cell_type": "code",
     "collapsed": false,
     "input": [
      "#print tree.\n",
      "def printTree(tree):\n",
      "    for i in range(len(tree.children)):\n",
      "        print tree.children[i].data.strip()+ \"---> Parent is \"+tree.children[i].parent.data\n",
      "        print \" \"\n",
      "    for i in range(len(tree.children)):\n",
      "        printTree(tree.children[i])\n",
      "    return"
     ],
     "language": "python",
     "metadata": {},
     "outputs": [],
     "prompt_number": 26
    },
    {
     "cell_type": "code",
     "collapsed": false,
     "input": [],
     "language": "python",
     "metadata": {},
     "outputs": [],
     "prompt_number": 26
    },
    {
     "cell_type": "code",
     "collapsed": false,
     "input": [
      "printTree(tree)"
     ],
     "language": "python",
     "metadata": {},
     "outputs": [
      {
       "output_type": "stream",
       "stream": "stdout",
       "text": [
        "import java.util.*;---> Parent is START\n",
        " \n",
        "//import java.tools.*;---> Parent is START\n",
        " \n",
        "public class HelloWorld{---> Parent is START\n",
        " \n",
        "public static void main(String[] args)---> Parent is public class HelloWorld{\n",
        "\n",
        " \n",
        "public static int adder(int a, int b)---> Parent is public class HelloWorld{\n",
        "\n",
        " \n",
        "public static int sub(int a, int b)---> Parent is public class HelloWorld{\n",
        "\n",
        " \n",
        "System.out.println(\"Hello World\");---> Parent is \tpublic static void main(String[] args)\n",
        "\n",
        " \n",
        "int x = 5;---> Parent is \tpublic static void main(String[] args)\n",
        "\n",
        " \n",
        "int y = 7;---> Parent is \tpublic static void main(String[] args)\n",
        "\n",
        " \n",
        "int z = adder(x,y);---> Parent is \tpublic static void main(String[] args)\n",
        "\n",
        " \n",
        "System.out.println(\"The value of z is \"+z);---> Parent is \tpublic static void main(String[] args)\n",
        "\n",
        " \n",
        "String hello = \"Hello World\";---> Parent is \tpublic static void main(String[] args)\n",
        "\n",
        " \n",
        "for(int i = 0 ; i < hello.length(); i ++ )---> Parent is \tpublic static void main(String[] args)\n",
        "\n",
        " \n",
        "if( 1 == 2 ){---> Parent is \tpublic static void main(String[] args)\n",
        "\n",
        " \n",
        "if ( x == y )---> Parent is \tpublic static void main(String[] args)\n",
        "\n",
        " \n",
        "for(int i = 0; i< 5; i++)---> Parent is \tpublic static void main(String[] args)\n",
        "\n",
        " \n",
        "System.out.println(\"Hello\");---> Parent is         for(int i = 0 ; i < hello.length(); i ++ )\n",
        "\n",
        " \n",
        "System.out.println(\"Cool\");---> Parent is         if( 1 == 2 ){\n",
        "\n",
        " \n",
        "x++;---> Parent is         if ( x == y )\n",
        "\n",
        " \n",
        "x++;---> Parent is         for(int i = 0; i< 5; i++)\n",
        "\n",
        " \n",
        "int c;---> Parent is \tpublic static int adder(int a, int b)\n",
        "\n",
        " \n",
        "c = a +b;---> Parent is \tpublic static int adder(int a, int b)\n",
        "\n",
        " \n",
        "c = sub((a+b)+(a+b),c);---> Parent is \tpublic static int adder(int a, int b)\n",
        "\n",
        " \n",
        "if( true)---> Parent is \tpublic static int adder(int a, int b)\n",
        "\n",
        " \n",
        "return c;---> Parent is \tpublic static int adder(int a, int b)\n",
        "\n",
        " \n",
        "c++;---> Parent is         if( true)\n",
        "\n",
        " \n",
        "int c;---> Parent is \tpublic static int sub(int a, int b)\n",
        "\n",
        " \n",
        "c = b-a;---> Parent is \tpublic static int sub(int a, int b)\n",
        "\n",
        " \n",
        "return c;---> Parent is \tpublic static int sub(int a, int b)\n",
        "\n",
        " \n"
       ]
      }
     ],
     "prompt_number": 27
    },
    {
     "cell_type": "code",
     "collapsed": false,
     "input": [
      "def detectElements(program):\n",
      "    runCompile()\n",
      "    for i in range(len(program)):\n",
      "        #print program[i]\n",
      "        detectFor(program[i])\n",
      "        detectIf(program[i])"
     ],
     "language": "python",
     "metadata": {},
     "outputs": [],
     "prompt_number": 28
    },
    {
     "cell_type": "code",
     "collapsed": false,
     "input": [
      "#function to determine if there are for statements in code\n",
      "def detectFor(line):\n",
      "    global errorString\n",
      "    global numFor\n",
      "    reg = r\"(for)+(\\s?)+(\\()+(.)+(.)+(.?)+(\\))\"\n",
      "    ret = re.search(reg,line)\n",
      "    if ret:\n",
      "        if ret.string in errorString:\n",
      "            print \"BAD LINE\"\n",
      "        else: \n",
      "            numFor = numFor + 1\n",
      "        print ret.string\n",
      "        "
     ],
     "language": "python",
     "metadata": {},
     "outputs": [],
     "prompt_number": 29
    },
    {
     "cell_type": "code",
     "collapsed": false,
     "input": [
      "detectElements(program)\n"
     ],
     "language": "python",
     "metadata": {},
     "outputs": [
      {
       "output_type": "stream",
       "stream": "stdout",
       "text": [
        "No Errors\n",
        "        for(int i = 0 ; i < hello.length(); i ++ )\n",
        "\n",
        "        if( 1 == 2 ){\n",
        "\n",
        "        if ( x == y )\n",
        "\n",
        "        for(int i = 0; i< 5; i++)\n",
        "\n",
        "        if( true)\n",
        "\n"
       ]
      }
     ],
     "prompt_number": 30
    },
    {
     "cell_type": "code",
     "collapsed": false,
     "input": [
      "# compile the code to get the error messages.\n",
      "def runCompile():\n",
      "    global errorString\n",
      "    cmd = \"javac HelloWorld.java\"\n",
      "    process = subprocess.Popen(cmd, stdout=subprocess.PIPE, stderr=subprocess.PIPE, shell=True)\n",
      "    output, error = process.communicate()\n",
      "    if not output and not error:\n",
      "        print \"No Errors\"\n",
      "    if error:\n",
      "        errorString = error\n",
      "        \n",
      "        "
     ],
     "language": "python",
     "metadata": {},
     "outputs": [],
     "prompt_number": 31
    },
    {
     "cell_type": "code",
     "collapsed": false,
     "input": [
      "# function to determine if there are if statements in the code.\n",
      "def detectIf(line):\n",
      "    global errorString\n",
      "    global numIfs\n",
      "    reg = r\"(if)+(\\s?)+(\\()+(((\\s?)+(.)+(\\s?)+(==|!=|<=|>=)+(\\s?)+(.))|((\\s?)+(\\w)+(\\s?)))+(\\))\"\n",
      "    ret = re.search(reg,line)\n",
      "    if ret:\n",
      "        if ret.string in errorString:\n",
      "            print \"BAD LINE\"\n",
      "        else:\n",
      "            numIfs = numIfs + 1\n",
      "        print ret.string"
     ],
     "language": "python",
     "metadata": {},
     "outputs": [],
     "prompt_number": 32
    },
    {
     "cell_type": "code",
     "collapsed": false,
     "input": [
      "def detectWhile(line):\n",
      "    global errorString\n",
      "    global numWhiles\n",
      "    reg = \"\""
     ],
     "language": "python",
     "metadata": {},
     "outputs": [],
     "prompt_number": 35
    },
    {
     "cell_type": "code",
     "collapsed": false,
     "input": [
      "runCompile()"
     ],
     "language": "python",
     "metadata": {},
     "outputs": [
      {
       "output_type": "stream",
       "stream": "stdout",
       "text": [
        "No Errors\n"
       ]
      }
     ],
     "prompt_number": 33
    },
    {
     "cell_type": "code",
     "collapsed": false,
     "input": [
      "print \"Total number of Ifs\"\n",
      "print numIfs\n",
      "\n",
      "print \"Total number of Fors\"\n",
      "print numFor"
     ],
     "language": "python",
     "metadata": {},
     "outputs": [
      {
       "output_type": "stream",
       "stream": "stdout",
       "text": [
        "Total number of Ifs\n",
        "3\n",
        "Total number of Fors\n",
        "2\n"
       ]
      }
     ],
     "prompt_number": 34
    },
    {
     "cell_type": "code",
     "collapsed": false,
     "input": [
      "def testWhile(code):\n",
      "    if (\"while\" in code):\n",
      "        if(\"(\" in code):\n",
      "            if(\")\" in code and str.find(code,\"(\") < str.find(code,\")\")):\n",
      "                return True\n",
      "    return False"
     ],
     "language": "python",
     "metadata": {},
     "outputs": [],
     "prompt_number": 80
    },
    {
     "cell_type": "code",
     "collapsed": false,
     "input": [
      "ex = [\"while(x==true)\",\"while(      \",\"while( x )\",\"while( x || y || z )\",\"while(x<5)\",\"while)\",\"while\",\")while(\"]\n",
      "ex_result = [True,False,True,True,True,False,False,False]\n",
      "#for i in range(len(ex[0])):\n",
      " #   print ex[0][i]\n",
      "for x in range(len(ex)):\n",
      "    print ex[x]\n",
      "    assert(testWhile(ex[x])==ex_result[x])\n",
      "    print testWhile(ex[x])"
     ],
     "language": "python",
     "metadata": {},
     "outputs": [
      {
       "output_type": "stream",
       "stream": "stdout",
       "text": [
        "while(x==true)\n",
        "True\n",
        "while(      \n",
        "False\n",
        "while( x )\n",
        "True\n",
        "while( x || y || z )\n",
        "True\n",
        "while(x<5)\n",
        "True\n",
        "while)\n",
        "False\n",
        "while\n",
        "False\n",
        ")while(\n",
        "False\n"
       ]
      }
     ],
     "prompt_number": 87
    },
    {
     "cell_type": "code",
     "collapsed": false,
     "input": [
      "def findWhile(code):\n",
      "    code = code.replace(\" \",\"\")\n",
      "    print code\n",
      "    for i in range(len(code)):\n",
      "        print code[i]\n",
      "    #codes = code.split(\"while\")\n",
      "    #print codes\n",
      "    \n",
      "def recurseWhile(code,x):\n",
      "    #print code\n",
      "    if(code[0]==\"e\" and x == 4):\n",
      "        return True\n",
      "    if(code[0]==\"w\" and x == 0):\n",
      "        return recurseWhile(code[1:],x+1)\n",
      "    if(code[0]==\"h\" and x == 1):\n",
      "        return recurseWhile(code[1:],x+1)\n",
      "    if(code[0]==\"i\" and x == 2):\n",
      "        return recurseWhile(code[1:],x+1)\n",
      "    if(code[0]==\"l\" and x == 3):\n",
      "        return recurseWhile(code[1:],x+1)\n",
      "    else: \n",
      "        return False\n",
      "    \n",
      "def recurseParen(code):\n",
      "    if(code[0]==\"(\"):\n",
      "        "
     ],
     "language": "python",
     "metadata": {},
     "outputs": [
      {
       "ename": "IndentationError",
       "evalue": "expected an indented block (<ipython-input-118-6d1fd8607bab>, line 25)",
       "output_type": "pyerr",
       "traceback": [
        "\u001b[0;36m  File \u001b[0;32m\"<ipython-input-118-6d1fd8607bab>\"\u001b[0;36m, line \u001b[0;32m25\u001b[0m\n\u001b[0;31m    if(code[0]==\"(\"):\u001b[0m\n\u001b[0m                     ^\u001b[0m\n\u001b[0;31mIndentationError\u001b[0m\u001b[0;31m:\u001b[0m expected an indented block\n"
       ]
      }
     ],
     "prompt_number": 118
    },
    {
     "cell_type": "code",
     "collapsed": false,
     "input": [
      "for x in range(len(ex)):\n",
      "    print ex[x]\n",
      "    whileFlag = recurseWhile(ex[x],0)\n",
      "    \n",
      "    assert(recurseWhile(ex[x],0)==ex_result[x])\n"
     ],
     "language": "python",
     "metadata": {},
     "outputs": [
      {
       "output_type": "stream",
       "stream": "stdout",
       "text": [
        "while(x==true)\n",
        "True\n",
        "while(      \n"
       ]
      },
      {
       "ename": "AssertionError",
       "evalue": "",
       "output_type": "pyerr",
       "traceback": [
        "\u001b[0;31m---------------------------------------------------------------------------\u001b[0m\n\u001b[0;31mAssertionError\u001b[0m                            Traceback (most recent call last)",
        "\u001b[0;32m<ipython-input-117-97aef44020eb>\u001b[0m in \u001b[0;36m<module>\u001b[0;34m()\u001b[0m\n\u001b[1;32m      1\u001b[0m \u001b[0;32mfor\u001b[0m \u001b[0mx\u001b[0m \u001b[0;32min\u001b[0m \u001b[0mrange\u001b[0m\u001b[0;34m(\u001b[0m\u001b[0mlen\u001b[0m\u001b[0;34m(\u001b[0m\u001b[0mex\u001b[0m\u001b[0;34m)\u001b[0m\u001b[0;34m)\u001b[0m\u001b[0;34m:\u001b[0m\u001b[0;34m\u001b[0m\u001b[0m\n\u001b[1;32m      2\u001b[0m     \u001b[0;32mprint\u001b[0m \u001b[0mex\u001b[0m\u001b[0;34m[\u001b[0m\u001b[0mx\u001b[0m\u001b[0;34m]\u001b[0m\u001b[0;34m\u001b[0m\u001b[0m\n\u001b[0;32m----> 3\u001b[0;31m     \u001b[0;32massert\u001b[0m\u001b[0;34m(\u001b[0m\u001b[0mrecurseWhile\u001b[0m\u001b[0;34m(\u001b[0m\u001b[0mex\u001b[0m\u001b[0;34m[\u001b[0m\u001b[0mx\u001b[0m\u001b[0;34m]\u001b[0m\u001b[0;34m,\u001b[0m\u001b[0;36m0\u001b[0m\u001b[0;34m)\u001b[0m\u001b[0;34m==\u001b[0m\u001b[0mex_result\u001b[0m\u001b[0;34m[\u001b[0m\u001b[0mx\u001b[0m\u001b[0;34m]\u001b[0m\u001b[0;34m)\u001b[0m\u001b[0;34m\u001b[0m\u001b[0m\n\u001b[0m\u001b[1;32m      4\u001b[0m     \u001b[0;32mprint\u001b[0m \u001b[0mrecurseWhile\u001b[0m\u001b[0;34m(\u001b[0m\u001b[0mex\u001b[0m\u001b[0;34m[\u001b[0m\u001b[0mx\u001b[0m\u001b[0;34m]\u001b[0m\u001b[0;34m,\u001b[0m\u001b[0;36m0\u001b[0m\u001b[0;34m)\u001b[0m\u001b[0;34m\u001b[0m\u001b[0m\n",
        "\u001b[0;31mAssertionError\u001b[0m: "
       ]
      }
     ],
     "prompt_number": 117
    },
    {
     "cell_type": "raw",
     "metadata": {},
     "source": []
    },
    {
     "cell_type": "code",
     "collapsed": false,
     "input": [],
     "language": "python",
     "metadata": {},
     "outputs": [],
     "prompt_number": 105
    },
    {
     "cell_type": "code",
     "collapsed": false,
     "input": [
      "findWhile(\"verycoolidea\")"
     ],
     "language": "python",
     "metadata": {},
     "outputs": [
      {
       "output_type": "stream",
       "stream": "stdout",
       "text": [
        "verycoolidea\n",
        "['verycoolidea']\n"
       ]
      }
     ],
     "prompt_number": 93
    },
    {
     "cell_type": "code",
     "collapsed": false,
     "input": [],
     "language": "python",
     "metadata": {},
     "outputs": []
    }
   ],
   "metadata": {}
  }
 ]
}