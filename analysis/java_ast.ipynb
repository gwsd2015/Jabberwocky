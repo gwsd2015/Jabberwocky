{
 "metadata": {
  "name": "",
  "signature": "sha256:cf7cea3b228b64a4d2f9e7e8357800f78542116a3eb79c577a2a9ff87dc53d38"
 },
 "nbformat": 3,
 "nbformat_minor": 0,
 "worksheets": [
  {
   "cells": [
    {
     "cell_type": "code",
     "collapsed": false,
     "input": [
      "import re\n",
      "import os\n",
      "import sys\n",
      "import subprocess\n",
      "errorString = \"\"\n",
      "numIfs = 0\n",
      "numFor = 0"
     ],
     "language": "python",
     "metadata": {},
     "outputs": [],
     "prompt_number": 128
    },
    {
     "cell_type": "code",
     "collapsed": false,
     "input": [
      "class Node:\n",
      "    def __init__(self,data,parent):\n",
      "        self.data = data\n",
      "        self.children = []\n",
      "        self.parent = parent\n",
      "    def addChild(self,node):\n",
      "        self.children.append(node)\n",
      "    \n",
      "    def printChildren(self):\n",
      "        for x in range(len(self.children)):\n",
      "            print self.children[x]"
     ],
     "language": "python",
     "metadata": {},
     "outputs": [],
     "prompt_number": 129
    },
    {
     "cell_type": "code",
     "collapsed": false,
     "input": [
      "#Open us all of information about file\n",
      "f = open(\"HelloWorld.java\",\"r\")\n",
      "program = []\n",
      "for line in f:\n",
      "    program.append(line)\n",
      "print program"
     ],
     "language": "python",
     "metadata": {},
     "outputs": [
      {
       "output_type": "stream",
       "stream": "stdout",
       "text": [
        "['import java.util.*;\\n', '//import java.tools.*;\\n', '\\n', 'public class HelloWorld{\\n', '\\n', '\\n', '\\tpublic static void main(String[] args)\\n', '\\t{\\n', '\\t\\tSystem.out.println(\"Hello World\");\\n', '\\t\\tint x = 5;\\n', '\\t\\tint y = 7;\\n', '\\t\\tint z = adder(x,y);\\n', '\\t\\tSystem.out.println(\"The value of z is \"+z);\\n', '        String hello = \"Hello World\";\\n', '        for(int i = 0 ; i < hell.length(); i ++ )\\n', '        {\\n', '            System.out.println(\"Hello\");\\n', '        }\\n', '        \\n', '        \\n', '        if( 1 == 2 ){\\n', '            System.out.println(\"Cool\");\\n', '        }\\n', '        \\n', '        if ( x == y )\\n', '        {\\n', '            x++;\\n', '        }\\n', '        \\n', '        \\n', '        \\n', '        for(int i = 0; i< 5; i++)\\n', '        {\\n', '            x++;\\n', '        }\\n', '\\n', '\\t}\\n', '\\n', '\\n', '\\n', '\\tpublic static int adder(int a, int b)\\n', '\\t{\\n', '\\t\\tint c;\\n', '\\t\\tc = a +b;\\n', '\\t\\tc = sub((a+b)+(a+b),c);\\n', '        \\n', '        if( true)\\n', '        {\\n', '            c++;\\n', '        }\\n', '        \\n', '\\t\\treturn c;\\n', '\\t}\\n', '\\n', '\\n', '\\tpublic static int sub(int a, int b)\\n', '\\t{\\n', '\\t\\tint c;\\n', '\\t\\tc = b-a;\\n', '\\t\\treturn c;\\n', '\\t}\\n', '\\n', '}']\n"
       ]
      }
     ],
     "prompt_number": 130
    },
    {
     "cell_type": "code",
     "collapsed": false,
     "input": [],
     "language": "python",
     "metadata": {},
     "outputs": [],
     "prompt_number": 130
    },
    {
     "cell_type": "code",
     "collapsed": false,
     "input": [],
     "language": "python",
     "metadata": {},
     "outputs": [],
     "prompt_number": 130
    },
    {
     "cell_type": "markdown",
     "metadata": {},
     "source": [
      "\n",
      "    "
     ]
    },
    {
     "cell_type": "code",
     "collapsed": false,
     "input": [
      "##Iterative tree builder\n",
      "def makeTree(tree,program):\n",
      "    tempTree= tree\n",
      "    currentParent = tree\n",
      "    cont = False\n",
      "    for i in range(len(program)):\n",
      "        #print \"i is \"+str(i)\n",
      "        if cont == True:\n",
      "            cont = False\n",
      "            continue\n",
      "        if i == len(program)-1:\n",
      "           print \"end\" \n",
      "        elif \"{\" in program[i]:\n",
      "            #print \"start1\"\n",
      "            currentParent.children.append(Node(program[i],currentParent))\n",
      "            currentParent = currentParent.children[len(currentParent.children)-1]\n",
      "        elif \"{\" in program[i+1] and program[i+1].strip().find(\"{\")==0:\n",
      "            #print \"start2\"\n",
      "            currentParent.children.append(Node(program[i],currentParent))\n",
      "            currentParent = currentParent.children[len(currentParent.children)-1]\n",
      "            cont = True\n",
      "        elif \"}\" in program[i]:\n",
      "            #print \"start3\"\n",
      "            currentParent = currentParent.children[len(currentParent.children)-1].parent.parent\n",
      "        else:\n",
      "            #print \"start4\"\n",
      "            if(program[i].strip() != \"\"):\n",
      "                currentParent.children.append(Node(program[i],currentParent))\n",
      "    return tempTree"
     ],
     "language": "python",
     "metadata": {},
     "outputs": [],
     "prompt_number": 131
    },
    {
     "cell_type": "code",
     "collapsed": false,
     "input": [
      "tree = makeTree(Node(\"START\",None),program)"
     ],
     "language": "python",
     "metadata": {},
     "outputs": [
      {
       "output_type": "stream",
       "stream": "stdout",
       "text": [
        "end\n"
       ]
      }
     ],
     "prompt_number": 132
    },
    {
     "cell_type": "code",
     "collapsed": false,
     "input": [
      "for i in range(len(tree.children)):\n",
      "    print tree.children[i].data\n",
      "print \"Children:\"\n",
      "for i in range(len(tree.children[2].children)):\n",
      "    print tree.children[2].children[i].data"
     ],
     "language": "python",
     "metadata": {},
     "outputs": [
      {
       "output_type": "stream",
       "stream": "stdout",
       "text": [
        "import java.util.*;\n",
        "\n",
        "//import java.tools.*;\n",
        "\n",
        "public class HelloWorld{\n",
        "\n",
        "Children:\n",
        "\tpublic static void main(String[] args)\n",
        "\n",
        "\tpublic static int adder(int a, int b)\n",
        "\n",
        "\tpublic static int sub(int a, int b)\n",
        "\n"
       ]
      }
     ],
     "prompt_number": 133
    },
    {
     "cell_type": "code",
     "collapsed": false,
     "input": [],
     "language": "python",
     "metadata": {},
     "outputs": [],
     "prompt_number": 133
    },
    {
     "cell_type": "code",
     "collapsed": false,
     "input": [
      "#print tree.\n",
      "def printTree(tree):\n",
      "    for i in range(len(tree.children)):\n",
      "        print tree.children[i].data.strip()+ \"---> Parent is \"+tree.children[i].parent.data\n",
      "        print \" \"\n",
      "    for i in range(len(tree.children)):\n",
      "        printTree(tree.children[i])\n",
      "    return"
     ],
     "language": "python",
     "metadata": {},
     "outputs": [],
     "prompt_number": 134
    },
    {
     "cell_type": "code",
     "collapsed": false,
     "input": [],
     "language": "python",
     "metadata": {},
     "outputs": [],
     "prompt_number": 134
    },
    {
     "cell_type": "code",
     "collapsed": false,
     "input": [
      "printTree(tree)"
     ],
     "language": "python",
     "metadata": {},
     "outputs": [
      {
       "output_type": "stream",
       "stream": "stdout",
       "text": [
        "import java.util.*;---> Parent is START\n",
        " \n",
        "//import java.tools.*;---> Parent is START\n",
        " \n",
        "public class HelloWorld{---> Parent is START\n",
        " \n",
        "public static void main(String[] args)---> Parent is public class HelloWorld{\n",
        "\n",
        " \n",
        "public static int adder(int a, int b)---> Parent is public class HelloWorld{\n",
        "\n",
        " \n",
        "public static int sub(int a, int b)---> Parent is public class HelloWorld{\n",
        "\n",
        " \n",
        "System.out.println(\"Hello World\");---> Parent is \tpublic static void main(String[] args)\n",
        "\n",
        " \n",
        "int x = 5;---> Parent is \tpublic static void main(String[] args)\n",
        "\n",
        " \n",
        "int y = 7;---> Parent is \tpublic static void main(String[] args)\n",
        "\n",
        " \n",
        "int z = adder(x,y);---> Parent is \tpublic static void main(String[] args)\n",
        "\n",
        " \n",
        "System.out.println(\"The value of z is \"+z);---> Parent is \tpublic static void main(String[] args)\n",
        "\n",
        " \n",
        "String hello = \"Hello World\";---> Parent is \tpublic static void main(String[] args)\n",
        "\n",
        " \n",
        "for(int i = 0 ; i < hell.length(); i ++ )---> Parent is \tpublic static void main(String[] args)\n",
        "\n",
        " \n",
        "if( 1 == 2 ){---> Parent is \tpublic static void main(String[] args)\n",
        "\n",
        " \n",
        "if ( x == y )---> Parent is \tpublic static void main(String[] args)\n",
        "\n",
        " \n",
        "for(int i = 0; i< 5; i++)---> Parent is \tpublic static void main(String[] args)\n",
        "\n",
        " \n",
        "System.out.println(\"Hello\");---> Parent is         for(int i = 0 ; i < hell.length(); i ++ )\n",
        "\n",
        " \n",
        "System.out.println(\"Cool\");---> Parent is         if( 1 == 2 ){\n",
        "\n",
        " \n",
        "x++;---> Parent is         if ( x == y )\n",
        "\n",
        " \n",
        "x++;---> Parent is         for(int i = 0; i< 5; i++)\n",
        "\n",
        " \n",
        "int c;---> Parent is \tpublic static int adder(int a, int b)\n",
        "\n",
        " \n",
        "c = a +b;---> Parent is \tpublic static int adder(int a, int b)\n",
        "\n",
        " \n",
        "c = sub((a+b)+(a+b),c);---> Parent is \tpublic static int adder(int a, int b)\n",
        "\n",
        " \n",
        "if( true)---> Parent is \tpublic static int adder(int a, int b)\n",
        "\n",
        " \n",
        "return c;---> Parent is \tpublic static int adder(int a, int b)\n",
        "\n",
        " \n",
        "c++;---> Parent is         if( true)\n",
        "\n",
        " \n",
        "int c;---> Parent is \tpublic static int sub(int a, int b)\n",
        "\n",
        " \n",
        "c = b-a;---> Parent is \tpublic static int sub(int a, int b)\n",
        "\n",
        " \n",
        "return c;---> Parent is \tpublic static int sub(int a, int b)\n",
        "\n",
        " \n"
       ]
      }
     ],
     "prompt_number": 135
    },
    {
     "cell_type": "code",
     "collapsed": false,
     "input": [
      "def detectElements(program):\n",
      "    runCompile()\n",
      "    for i in range(len(program)):\n",
      "        #print program[i]\n",
      "        detectFor(program[i])\n",
      "        detectIf(program[i])"
     ],
     "language": "python",
     "metadata": {},
     "outputs": [],
     "prompt_number": 136
    },
    {
     "cell_type": "code",
     "collapsed": false,
     "input": [
      "#function to determine if there are for statements in code\n",
      "def detectFor(line):\n",
      "    global errorString\n",
      "    global numFor\n",
      "    reg = r\"(for)+(\\s?)+(\\()+(.)+(.)+(.?)+(\\))\"\n",
      "    ret = re.search(reg,line)\n",
      "    if ret:\n",
      "        if ret.string in errorString:\n",
      "            print \"BAD LINE\"\n",
      "        else: \n",
      "            numFor = numFor + 1\n",
      "        print ret.string\n",
      "        "
     ],
     "language": "python",
     "metadata": {},
     "outputs": [],
     "prompt_number": 137
    },
    {
     "cell_type": "code",
     "collapsed": false,
     "input": [
      "detectElements(program)\n"
     ],
     "language": "python",
     "metadata": {},
     "outputs": [
      {
       "output_type": "stream",
       "stream": "stdout",
       "text": [
        "BAD LINE\n",
        "        for(int i = 0 ; i < hell.length(); i ++ )\n",
        "\n",
        "        if( 1 == 2 ){\n",
        "\n",
        "        if ( x == y )\n",
        "\n",
        "        for(int i = 0; i< 5; i++)\n",
        "\n",
        "        if( true)\n",
        "\n"
       ]
      }
     ],
     "prompt_number": 138
    },
    {
     "cell_type": "code",
     "collapsed": false,
     "input": [
      "# compile the code to get the error messages.\n",
      "def runCompile():\n",
      "    global errorString\n",
      "    cmd = \"javac HelloWorld.java\"\n",
      "    process = subprocess.Popen(cmd, stdout=subprocess.PIPE, stderr=subprocess.PIPE, shell=True)\n",
      "    output, error = process.communicate()\n",
      "    if not output and not error:\n",
      "        print \"No Errors\"\n",
      "    if error:\n",
      "        errorString = error\n",
      "        \n",
      "        "
     ],
     "language": "python",
     "metadata": {},
     "outputs": [],
     "prompt_number": 139
    },
    {
     "cell_type": "code",
     "collapsed": false,
     "input": [
      "# function to determine if there are if statements in the code.\n",
      "def detectIf(line):\n",
      "    global errorString\n",
      "    global numIfs\n",
      "    reg = r\"(if)+(\\s?)+(\\()+(((\\s?)+(.)+(\\s?)+(==|!=|<=|>=)+(\\s?)+(.))|((\\s?)+(\\w)+(\\s?)))+(\\))\"\n",
      "    ret = re.search(reg,line)\n",
      "    if ret:\n",
      "        if ret.string in errorString:\n",
      "            print \"BAD LINE\"\n",
      "        else:\n",
      "            numIfs = numIfs + 1\n",
      "        print ret.string"
     ],
     "language": "python",
     "metadata": {},
     "outputs": [],
     "prompt_number": 140
    },
    {
     "cell_type": "code",
     "collapsed": false,
     "input": [
      "runCompile()"
     ],
     "language": "python",
     "metadata": {},
     "outputs": [],
     "prompt_number": 141
    },
    {
     "cell_type": "code",
     "collapsed": false,
     "input": [
      "print \"Total number of Ifs\"\n",
      "print numIfs\n",
      "\n",
      "print \"Total number of Fors\"\n",
      "print numFor"
     ],
     "language": "python",
     "metadata": {},
     "outputs": [
      {
       "output_type": "stream",
       "stream": "stdout",
       "text": [
        "Total number of Ifs\n",
        "3\n",
        "Total number of Fors\n",
        "1\n"
       ]
      }
     ],
     "prompt_number": 142
    },
    {
     "cell_type": "code",
     "collapsed": false,
     "input": [],
     "language": "python",
     "metadata": {},
     "outputs": [],
     "prompt_number": 142
    }
   ],
   "metadata": {}
  }
 ]
}