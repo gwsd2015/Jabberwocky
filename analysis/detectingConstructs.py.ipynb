{
 "metadata": {
  "name": "",
  "signature": "sha256:2db49a06c828695848c0f0bdaaeebf9e0704f3e60fd24e86907f952f37156361"
 },
 "nbformat": 3,
 "nbformat_minor": 0,
 "worksheets": [
  {
   "cells": [
    {
     "cell_type": "code",
     "collapsed": false,
     "input": [
      "import os\n",
      "import sys\n",
      "import subprocess\n",
      "import string\n",
      "rule = \"for(expression)\"\n",
      "visibility = [\"public\",\"private\",\"protected\"]\n",
      "modifier = [\"static\",\"final\",\"native\",\"synchronized\",\"abstract\",\"threadsafe\",\"transient\"]\n",
      "types= [\"boolean\",\"byte\",\"char\",\"short\",\"int\",\"float\",\"long\",\"double\",\"class_name\",\"void\"]"
     ],
     "language": "python",
     "metadata": {},
     "outputs": [],
     "prompt_number": 76
    },
    {
     "cell_type": "code",
     "collapsed": false,
     "input": [
      "def identifyFor(line,rule):\n",
      "    print line"
     ],
     "language": "python",
     "metadata": {},
     "outputs": [],
     "prompt_number": 4
    },
    {
     "cell_type": "code",
     "collapsed": false,
     "input": [
      "#Open us all of information about file\n",
      "file = \"/Users/lucasch/Desktop/cs1112/lucasch-out11/WordMorph.java\"\n",
      "f = open(file,\"r\")\n",
      "program = []\n",
      "for line in f:\n",
      "    program.append(line)\n",
      "#print program[15]\n",
      "identifyFor(program[14],rule)"
     ],
     "language": "python",
     "metadata": {},
     "outputs": [
      {
       "output_type": "stream",
       "stream": "stdout",
       "text": [
        "        \n",
        "\n"
       ]
      }
     ],
     "prompt_number": 5
    },
    {
     "cell_type": "raw",
     "metadata": {},
     "source": [
      "This data structure is used to store lines and detect whether an item is a construct."
     ]
    },
    {
     "cell_type": "code",
     "collapsed": false,
     "input": [
      "class CodeLine:\n",
      "    def __init__(self,line):\n",
      "        self.line = \"\".join(line.split())\n",
      "        self.children = []\n",
      "        self.expType=\"\"\n",
      "        \n",
      "    def identify(self,exp):\n",
      "        #for i in range(exp.index):\n",
      "            #if self.line[i] != exp.line[i]:\n",
      "                #return 0\n",
      "        for i in range(len(exp)):\n",
      "            index = exp[i].index\n",
      "            if( self.line[0:index] == exp[i].line[0:index]):\n",
      "                self.expType = exp[i].line\n",
      "        #print self.expType\n",
      "        if(self.expType == \"\"):\n",
      "            return 0\n",
      "        return 1\n",
      "      \n",
      "    def printCode(self):\n",
      "        return self.line\n",
      "        #print 1"
     ],
     "language": "python",
     "metadata": {},
     "outputs": [],
     "prompt_number": 6
    },
    {
     "cell_type": "code",
     "collapsed": false,
     "input": [
      "class Construct:\n",
      "    def __init__(self,line,index):\n",
      "        self.line = \"\".join(line.split())\n",
      "        self.children = []\n",
      "        self.index = index\n",
      "        \n",
      "    def printConstruct(self):\n",
      "        print self.line\n",
      "        "
     ],
     "language": "python",
     "metadata": {},
     "outputs": [],
     "prompt_number": 7
    },
    {
     "cell_type": "code",
     "collapsed": false,
     "input": [
      "s = \"\\tVery cool Man \\n\"\n",
      "x = \"\".join(s.split())\n",
      "print x"
     ],
     "language": "python",
     "metadata": {},
     "outputs": [
      {
       "output_type": "stream",
       "stream": "stdout",
       "text": [
        "VerycoolMan\n"
       ]
      }
     ],
     "prompt_number": 8
    },
    {
     "cell_type": "code",
     "collapsed": false,
     "input": [
      "line1 = CodeLine(\"for(int i = 0 ; i < hello.length(); i ++ )\")\n",
      "forLoop = Construct(\"for(exp)\",4)\n",
      "ifExp = Construct(\"if(exp)\",3)\n",
      "whileExp = Construct(\"while(exp)\",6)\n",
      "doExp = Construct(\"do{\",3)\n",
      "\n",
      "constructList = []\n",
      "constructList.append(Construct(\"for(exp)\",4))\n",
      "constructList.append(Construct(\"if(exp)\",3))\n",
      "constructList.append(Construct(\"while(exp)\",6))\n",
      "constructList.append(Construct(\"do{\",3))\n"
     ],
     "language": "python",
     "metadata": {},
     "outputs": [],
     "prompt_number": 9
    },
    {
     "cell_type": "code",
     "collapsed": false,
     "input": [],
     "language": "python",
     "metadata": {},
     "outputs": [],
     "prompt_number": 9
    },
    {
     "cell_type": "code",
     "collapsed": false,
     "input": [
      "line1.printCode()\n",
      "forLoop.printConstruct()"
     ],
     "language": "python",
     "metadata": {},
     "outputs": [
      {
       "output_type": "stream",
       "stream": "stdout",
       "text": [
        "for(exp)\n"
       ]
      }
     ],
     "prompt_number": 10
    },
    {
     "cell_type": "code",
     "collapsed": false,
     "input": [
      "print line1.identify(constructList)\n",
      "print line1.expType\n",
      "#line1.identify(ifExp)\n",
      "#line1.identify(doExp)"
     ],
     "language": "python",
     "metadata": {},
     "outputs": [
      {
       "output_type": "stream",
       "stream": "stdout",
       "text": [
        "1\n",
        "for(exp)\n"
       ]
      }
     ],
     "prompt_number": 11
    },
    {
     "cell_type": "code",
     "collapsed": false,
     "input": [
      "def ExpType(x):\n",
      "    return {\n",
      "        'for(exp)': 1,\n",
      "        'if(exp)': 2,\n",
      "        'while(exp)': 3,\n",
      "        'do{':4,\n",
      "    }[x]"
     ],
     "language": "python",
     "metadata": {},
     "outputs": [],
     "prompt_number": 12
    },
    {
     "cell_type": "code",
     "collapsed": false,
     "input": [
      "def identifyConstructs(code,constructs):\n",
      "    program = []\n",
      "    counters = [0,0,0,0,0]\n",
      "    for i in range(len(code)):\n",
      "        if(\"\".join(code[i].split()) == \"\"):\n",
      "            continue\n",
      "        program.append(CodeLine(code[i]))\n",
      "    #for i in range(len(program)):\n",
      "    for i in range(len(program)):\n",
      "        ret = program[i].identify(constructs)\n",
      "        if(ret == 1):\n",
      "            val = ExpType(program[i].expType)\n",
      "            counters[val] = counters[val]+1\n",
      "    return counters  "
     ],
     "language": "python",
     "metadata": {},
     "outputs": [],
     "prompt_number": 13
    },
    {
     "cell_type": "code",
     "collapsed": false,
     "input": [
      "#print program\n",
      "res = identifyConstructs(program,constructList)\n",
      "print \"Totals:\"\n",
      "for i in range(len(constructList)):\n",
      "    print \"\\t\"+constructList[i].line+\": \"+str(res[i+1])"
     ],
     "language": "python",
     "metadata": {},
     "outputs": [
      {
       "output_type": "stream",
       "stream": "stdout",
       "text": [
        "Totals:\n",
        "\tfor(exp): 5\n",
        "\tif(exp): 5\n",
        "\twhile(exp): 0\n",
        "\tdo{: 0\n"
       ]
      }
     ],
     "prompt_number": 14
    },
    {
     "cell_type": "code",
     "collapsed": false,
     "input": [
      "def identifyMethods(code):\n",
      "    global modifier\n",
      "    global types\n",
      "    program = code.split()\n",
      "    for i in range(len(modifier)):\n",
      "        if(modifier[i] in program[0]):\n",
      "            print \"True\""
     ],
     "language": "python",
     "metadata": {},
     "outputs": [],
     "prompt_number": 15
    },
    {
     "cell_type": "code",
     "collapsed": false,
     "input": [
      "identifyMethods(\"public static void main(){\")"
     ],
     "language": "python",
     "metadata": {},
     "outputs": [],
     "prompt_number": 16
    },
    {
     "cell_type": "code",
     "collapsed": false,
     "input": [
      "for i in range(5):\n",
      "    print \"Hello World\"\n"
     ],
     "language": "python",
     "metadata": {},
     "outputs": [
      {
       "output_type": "stream",
       "stream": "stdout",
       "text": [
        "Hello World\n",
        "Hello World\n",
        "Hello World\n",
        "Hello World\n",
        "Hello World\n"
       ]
      }
     ],
     "prompt_number": 17
    },
    {
     "cell_type": "code",
     "collapsed": false,
     "input": [
      "def countLines(lines):\n",
      "    print lines"
     ],
     "language": "python",
     "metadata": {},
     "outputs": [],
     "prompt_number": 18
    },
    {
     "cell_type": "code",
     "collapsed": false,
     "input": [
      "countLines(program)"
     ],
     "language": "python",
     "metadata": {},
     "outputs": [
      {
       "output_type": "stream",
       "stream": "stdout",
       "text": [
        "['\\n', 'import java.util.*;\\n', '\\n', 'public class WordMorph {\\n', '\\n', '    static String[] words;                 // English dictionary (lowercase).\\n', '\\n', '    static LinkedList<LinkedList<String>> results;     // The result.\\n', '\\n', '\\n', '    static LinkedList<LinkedList<String>> findLinks (String startWord, String endWord, int numSteps)\\n', '    {\\n', '        // Read in the dictionary.\\n', '        words = WordTool.getDictionary();\\n', '        \\n', '        results = new LinkedList<LinkedList<String>>();\\n', '\\n', '        // INSERT PART OF YOUR CODE HERE to call the recursive method\\n', '\\t\\tLinkedList<String> list1=new LinkedList<String>();\\n', '\\t\\tlist1.add(startWord);\\n', '\\t\\trecursive(startWord,endWord,numSteps,list1);\\n', '        return results;\\n', '    }\\n', '\\n', '\\n', '    // INSERT YOUR CODE HERE (for the recursive method)\\n', '\\tstatic void recursive(String startWord, String endWord, int numSteps, LinkedList<String>list1)\\n', '\\t{\\n', '\\t\\t//break out case: done with all steps\\n', '\\t\\tif(numSteps==0)\\n', '\\t\\t{ \\n', '\\t\\t\\tif(startWord.equals(endWord))\\n', '\\t\\t\\t{\\n', '\\t\\t\\t\\t//makes a copy of the list and then adds it to results\\n', '\\t\\t\\t\\tresults.add(copy(list1));\\n', '\\t\\t\\t}\\n', '\\t\\t\\treturn;\\n', '\\t\\t\\t\\n', '\\t\\t}\\n', '\\t\\t//scans through dictionary\\n', '\\t\\tfor(int i=0; i<words.length; i++)\\n', '\\t\\t{\\n', '\\t\\t\\t//tests if they are off by one and the list doesnt contain it yet\\n', '\\t\\t\\tif(offByOne(startWord,words[i]) && !list1.contains(words[i]))\\n', '\\t\\t\\t{\\n', '\\t\\t\\t\\t//adds to the list\\n', '\\t\\t\\t\\tlist1.add(words[i]);\\n', '\\t\\t\\t\\t//recursively searches for the next word\\n', '\\t\\t\\t\\trecursive(words[i],endWord,numSteps-1,list1);\\n', '\\t\\t\\t\\t//undoes previous ones\\n', '\\t\\t\\t\\tlist1.removeLast();\\n', '\\t\\t\\t}\\n', '\\t\\t}\\n', '\\t\\t\\n', '\\t}\\n', '\\n', '    static boolean offByOne (String word1, String word2) \\n', '    {\\n', '        // INSERT YOUR CODE HERE.\\n', '\\t\\t//checks to see if they are not equal to the same length\\n', '\\t\\tif(word1.length()!=word2.length())\\n', '\\t\\t{\\n', '\\t\\t\\treturn false;\\n', '\\t\\t}\\n', '\\t\\t//creates a counter to keep track of number of differences in the letter.\\n', '\\t\\tint letterCount=0;\\n', '        // Return true if the two words are of the same length\\n', '        // and differ by exactly one letter.\\n', '\\t\\t//creates two char arrays to compare the letters\\n', '\\t\\tchar[] wordOne=word1.toCharArray();\\n', '\\t\\tchar[] wordTwo=word2.toCharArray();\\n', '\\t\\t//scans through and compares the two words to eachother\\n', '\\t\\tfor(int i=0; i<wordOne.length; i++)\\n', '\\t\\t\\t{\\n', '\\t\\t\\t\\tif(wordOne[i]!=wordTwo[i])\\n', '\\t\\t\\t\\t{\\n', '\\t\\t\\t\\t\\tletterCount++;\\n', '\\t\\t\\t\\t}\\n', '\\t\\t\\t}\\n', '\\t\\t//returns true if count differs by one and false if count differs by anything else\\n', '\\t\\treturn (letterCount==1);\\n', '    }\\n', '    \\n', '    \\n', '\\n', '    // You might or might not find this method useful.\\n', '\\n', '    static LinkedList<String> copy (LinkedList<String> list)\\n', '    {\\n', '        LinkedList<String> copyList = new LinkedList<String>();\\n', '        for (String s: list) {\\n', '            copyList.add (s);\\n', '        }\\n', '        return copyList;\\n', '    }\\n', '    \\n', '\\n', '    public static void main (String[] argv)\\n', '    {\\n', '\\t\\tboolean test=false;\\n', '        // Test \\n', '        LinkedList<LinkedList<String>> results = findLinks (\"east\", \"west\", 4);\\n', '        print (results);\\n', '\\n', '        // Test 2:\\n', '        results = findLinks (\"lead\", \"gold\", 4);\\n', '        print (results);\\n', '\\n', '        // Test 3:\\n', '        results = findLinks (\"cat\", \"dog\", 4);\\n', '        print (results);\\n', '\\t\\t\\n', '\\t\\t//test 4: tests for mismatched sizes\\n', '\\t\\ttest=offByOne(\"cast\",\"dogged\");\\n', '\\t\\tSystem.out.println(\"Should be false: \"+test);\\n', '\\t\\t\\n', '\\t\\t//test 4: tests for mismatched sizes\\n', '\\t\\ttest=offByOne(\"cast\",\"cart\");\\n', '\\t\\tSystem.out.println(\"Should be true: \"+test);\\n', '\\t\\t\\n', '    }\\n', '\\n', '    \\n', '    static void print (LinkedList<LinkedList<String>> listOfLists)\\n', '    {\\n', '        int count = 0;\\n', '        for (LinkedList<String> list: listOfLists) {\\n', '            for (String s: list) {\\n', '                System.out.print (\"  \" + s);\\n', '            }\\n', '            System.out.println ();\\n', '            count ++;\\n', '        }\\n', '        System.out.println (\" => \" + count + \" different morphs\");\\n', '    }\\n', '    \\n', '\\n', '}\\n']\n"
       ]
      }
     ],
     "prompt_number": 19
    },
    {
     "cell_type": "code",
     "collapsed": false,
     "input": [
      "def identifyMethods(code,visible,modifier,types):\n",
      "    if \"//\" in code:\n",
      "        #print \"comment\"\n",
      "        return\n",
      "    method = \"\"\n",
      "    #print code\n",
      "    code_parse = code.split()\n",
      "    #print code_parse\n",
      "    if len(code_parse) < 2:\n",
      "        return\n",
      "    if code_parse[0] in visible:\n",
      "        method = method+\" \"+code_parse[0]\n",
      "        code_parse.pop(0)\n",
      "    counter = 0\n",
      "    if len(code_parse) < 2:\n",
      "        return\n",
      "    for i in range(len(code_parse)):\n",
      "        if code_parse[i] in modifier:\n",
      "            method= method + \" \" + code_parse[i]\n",
      "            counter = counter+1\n",
      "        else:\n",
      "            break\n",
      "    for i in range(counter):\n",
      "        code_parse.pop(0)\n",
      "    if len(code_parse)<2:\n",
      "        return\n",
      "    method = method +\" \"+ code_parse[0]\n",
      "    code_parse.pop(0)\n",
      "    methodName= \"\"\n",
      "    for i in range(len(code_parse)):\n",
      "        methodName= methodName+\" \"+code_parse[i]\n",
      "    \n",
      "    #print code+\" =====> \"+methodName\n",
      "    #methodName= methodName.replace(\" \",\"\")\n",
      "    #methodFront_temp = methodName.split(\"(\", 1)\n",
      "    #if len(methodFront_temp)<2:\n",
      "      #  return\n",
      "    #methodFront = methodFront_temp[0]\n",
      "    #methodMiddle_temp = methodFront_temp[1].split(\")\",1)\n",
      "    #if len(methodMiddle_temp)<2:\n",
      "     #   return\n",
      "    #methodMiddle = methodMiddle_temp[0]\n",
      "    #methodBack = methodMiddle_temp[1] \n",
      "    \n",
      "    #print \"==> \"+method+\" \"+methodName\n",
      "    #print \"Front ==> \"\n",
      "    #print methodFront\n",
      "    #print \"Middle ==>\"\n",
      "    #print methodMiddle\n",
      "    #print \"Back ==>\"\n",
      "    #print methodBack\n",
      "    \n",
      "    \n",
      "    #print methodName\n",
      "    methodFront = \"\"\n",
      "    methodBack = \"\"\n",
      "    methodMiddle = \"\"\n",
      "    x = string.find(methodName,\"(\")\n",
      "    if  x != -1:\n",
      "        methodFront = methodName[0:x+1]\n",
      "        #print methodFront\n",
      "    y = string.find(methodName,\")\")\n",
      "    if y != -1:\n",
      "        methodMiddle= methodName[x+1:y]\n",
      "        methodBack = methodName[y:]\n",
      "    \n",
      "    methods = [methodFront,methodMiddle,methodBack]\n",
      "    if methods[2] == \")\" and \"(\" in methods[0]:\n",
      "        print methods\n",
      "    #if(methodBack == \"\" or methodBack == \"{\"):\n",
      "     #   print \"Method found\"\n",
      "    #print \"\\n\\n\\n\"\n",
      "    #if(\"(\" in methodName and \")\" in methodName):\n",
      "        #print \"Method Detected: \"+method+\" \"+methodName\n",
      "    #methodName_parse = methodName.split([\"(\",\")\"])\n",
      "    #print methodName_parse\n",
      "    #if (\"(\" in code_parse[0] ) != 0 or ( len(code_parse) >2 and(\"(\" in code_parse[1])):\n",
      "        #method = method +\" \"+ code_parse[0]\n",
      "        #print \"Method detected\"\n",
      "        #print method\n",
      "    "
     ],
     "language": "python",
     "metadata": {},
     "outputs": [],
     "prompt_number": 203
    },
    {
     "cell_type": "code",
     "collapsed": false,
     "input": [
      "#identifyMethods(\"main(String[] args)\",visibility,modifier,types)\n",
      "for i in range(len(program)):\n",
      "    identifyMethods(program[i],visibility,modifier,types)"
     ],
     "language": "python",
     "metadata": {},
     "outputs": [
      {
       "output_type": "stream",
       "stream": "stdout",
       "text": [
        "[' findLinks (', 'String startWord, String endWord, int numSteps', ')']\n",
        "[' recursive(', 'String startWord, String endWord, int numSteps, LinkedList<String>list1', ')']\n",
        "[' offByOne (', 'String word1, String word2', ')']\n",
        "[' copy (', 'LinkedList<String> list', ')']\n",
        "[' main (', 'String[] argv', ')']\n",
        "[' print (', 'LinkedList<LinkedList<String>> listOfLists', ')']\n"
       ]
      }
     ],
     "prompt_number": 204
    },
    {
     "cell_type": "code",
     "collapsed": false,
     "input": [
      "line2 = \"public static void main(int hello, int y){};\"\n",
      "line2 = line2.split()\n",
      "print line2"
     ],
     "language": "python",
     "metadata": {},
     "outputs": [
      {
       "output_type": "stream",
       "stream": "stdout",
       "text": [
        "['public', 'static', 'void', 'main(int', 'hello,', 'int', 'y){};']\n"
       ]
      }
     ],
     "prompt_number": 85
    },
    {
     "cell_type": "code",
     "collapsed": false,
     "input": [],
     "language": "python",
     "metadata": {},
     "outputs": [],
     "prompt_number": 22
    }
   ],
   "metadata": {}
  }
 ]
}