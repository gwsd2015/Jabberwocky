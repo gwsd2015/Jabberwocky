{
 "metadata": {
  "name": "",
  "signature": "sha256:b01c9fe5eb2aef5f94f21d65b2772665b879bed351f60d04ce8b68190a6627d1"
 },
 "nbformat": 3,
 "nbformat_minor": 0,
 "worksheets": [
  {
   "cells": [
    {
     "cell_type": "code",
     "collapsed": false,
     "input": [
      "import os\n",
      "import sys\n",
      "import subprocess\n",
      "rule = \"for(expression)\"\n",
      "modifier = [\"public\",\"private\",\"protected\",\"static\",\"final\",\"native\",\"synchronized\",\"abstract\",\"threadsafe\",\"transient\"]\n",
      "types= [\"boolean\",\"byte\",\"char\",\"short\",\"int\",\"float\",\"long\",\"double\",\"class_name\"]"
     ],
     "language": "python",
     "metadata": {},
     "outputs": [],
     "prompt_number": 17
    },
    {
     "cell_type": "code",
     "collapsed": false,
     "input": [
      "#Open us all of information about file\n",
      "f = open(\"HelloWorld.java\",\"r\")\n",
      "program = []\n",
      "for line in f:\n",
      "    program.append(line)\n",
      "#print program[14]\n",
      "identifyFor(program[14],rule)"
     ],
     "language": "python",
     "metadata": {},
     "outputs": [
      {
       "output_type": "stream",
       "stream": "stdout",
       "text": [
        "        for(int i = 0 ; i < hello.length(); i ++ )\n",
        "\n"
       ]
      }
     ],
     "prompt_number": 20
    },
    {
     "cell_type": "code",
     "collapsed": false,
     "input": [
      "def identifyFor(line,rule):\n",
      "    print line"
     ],
     "language": "python",
     "metadata": {},
     "outputs": [],
     "prompt_number": 21
    },
    {
     "cell_type": "raw",
     "metadata": {},
     "source": [
      "This data structure is used to store lines and detect whether an item is a construct."
     ]
    },
    {
     "cell_type": "code",
     "collapsed": false,
     "input": [
      "class CodeLine:\n",
      "    def __init__(self,line):\n",
      "        self.line = \"\".join(line.split())\n",
      "        self.children = []\n",
      "        self.expType=\"\"\n",
      "        \n",
      "    def identify(self,exp):\n",
      "        #for i in range(exp.index):\n",
      "            #if self.line[i] != exp.line[i]:\n",
      "                #return 0\n",
      "        for i in range(len(exp)):\n",
      "            index = exp[i].index\n",
      "            if( self.line[0:index] == exp[i].line[0:index]):\n",
      "                self.expType = exp[i].line\n",
      "        #print self.expType\n",
      "        if(self.expType == \"\"):\n",
      "            return 0\n",
      "        return 1\n",
      "      \n",
      "    def printCode(self):\n",
      "        return self.line\n",
      "        #print 1"
     ],
     "language": "python",
     "metadata": {},
     "outputs": [],
     "prompt_number": 22
    },
    {
     "cell_type": "code",
     "collapsed": false,
     "input": [
      "class Construct:\n",
      "    def __init__(self,line,index):\n",
      "        self.line = \"\".join(line.split())\n",
      "        self.children = []\n",
      "        self.index = index\n",
      "        \n",
      "    def printConstruct(self):\n",
      "        print self.line\n",
      "        "
     ],
     "language": "python",
     "metadata": {},
     "outputs": [],
     "prompt_number": 23
    },
    {
     "cell_type": "code",
     "collapsed": false,
     "input": [
      "s = \"\\tVery cool Man \\n\"\n",
      "x = \"\".join(s.split())\n",
      "print x"
     ],
     "language": "python",
     "metadata": {},
     "outputs": [
      {
       "output_type": "stream",
       "stream": "stdout",
       "text": [
        "VerycoolMan\n"
       ]
      }
     ],
     "prompt_number": 36
    },
    {
     "cell_type": "code",
     "collapsed": false,
     "input": [
      "line1 = CodeLine(\"for(int i = 0 ; i < hello.length(); i ++ )\")\n",
      "forLoop = Construct(\"for(exp)\",4)\n",
      "ifExp = Construct(\"if(exp)\",3)\n",
      "whileExp = Construct(\"while(exp)\",6)\n",
      "doExp = Construct(\"do{\",3)\n",
      "\n",
      "constructList = []\n",
      "constructList.append(Construct(\"for(exp)\",4))\n",
      "constructList.append(Construct(\"if(exp)\",3))\n",
      "constructList.append(Construct(\"while(exp)\",6))\n",
      "constructList.append(Construct(\"do{\",3))\n"
     ],
     "language": "python",
     "metadata": {},
     "outputs": [],
     "prompt_number": 24
    },
    {
     "cell_type": "code",
     "collapsed": false,
     "input": [
      "line1.printCode()\n",
      "forLoop.printConstruct()"
     ],
     "language": "python",
     "metadata": {},
     "outputs": [
      {
       "output_type": "stream",
       "stream": "stdout",
       "text": [
        "for(exp)\n"
       ]
      }
     ],
     "prompt_number": 25
    },
    {
     "cell_type": "code",
     "collapsed": false,
     "input": [
      "print line1.identify(constructList)\n",
      "print line1.expType\n",
      "#line1.identify(ifExp)\n",
      "#line1.identify(doExp)"
     ],
     "language": "python",
     "metadata": {},
     "outputs": [
      {
       "output_type": "stream",
       "stream": "stdout",
       "text": [
        "1\n",
        "for(exp)\n"
       ]
      }
     ],
     "prompt_number": 26
    },
    {
     "cell_type": "code",
     "collapsed": false,
     "input": [
      "def identifyConstructs(code,constructs):\n",
      "    program = []\n",
      "    counters = [0,0,0,0,0]\n",
      "    for i in range(len(code)):\n",
      "        if(\"\".join(code[i].split()) == \"\"):\n",
      "            continue\n",
      "        program.append(CodeLine(code[i]))\n",
      "    #for i in range(len(program)):\n",
      "    for i in range(len(program)):\n",
      "        ret = program[i].identify(constructs)\n",
      "        if(ret == 1):\n",
      "            val = ExpType(program[i].expType)\n",
      "            counters[val] = counters[val]+1\n",
      "    return counters  "
     ],
     "language": "python",
     "metadata": {},
     "outputs": [],
     "prompt_number": 27
    },
    {
     "cell_type": "code",
     "collapsed": false,
     "input": [
      "#print program\n",
      "res = identifyConstructs(program,constructList)\n",
      "print \"Totals:\"\n",
      "for i in range(len(constructList)):\n",
      "    print \"\\t\"+constructList[i].line+\": \"+str(res[i+1])"
     ],
     "language": "python",
     "metadata": {},
     "outputs": [
      {
       "output_type": "stream",
       "stream": "stdout",
       "text": [
        "Totals:\n",
        "\tfor(exp): 2\n",
        "\tif(exp): 3\n",
        "\twhile(exp): 2\n",
        "\tdo{: 1\n"
       ]
      }
     ],
     "prompt_number": 30
    },
    {
     "cell_type": "code",
     "collapsed": false,
     "input": [
      "def ExpType(x):\n",
      "    return {\n",
      "        'for(exp)': 1,\n",
      "        'if(exp)': 2,\n",
      "        'while(exp)': 3,\n",
      "        'do{':4,\n",
      "    }[x]"
     ],
     "language": "python",
     "metadata": {},
     "outputs": [],
     "prompt_number": 31
    },
    {
     "cell_type": "code",
     "collapsed": false,
     "input": [
      "def identifyMethods(code):\n",
      "    global modifier\n",
      "    global types\n",
      "    program = code.split()\n",
      "    for i in range(len(modifier)):\n",
      "        if(modifier[i] in program[0]):\n",
      "            print \"True\""
     ],
     "language": "python",
     "metadata": {},
     "outputs": [],
     "prompt_number": 41
    },
    {
     "cell_type": "code",
     "collapsed": false,
     "input": [
      "identifyMethods(\"public static void main(){\")"
     ],
     "language": "python",
     "metadata": {},
     "outputs": [
      {
       "output_type": "stream",
       "stream": "stdout",
       "text": [
        "True\n"
       ]
      }
     ],
     "prompt_number": 40
    },
    {
     "cell_type": "code",
     "collapsed": false,
     "input": [
      "for i in range(5):\n",
      "    print \"Hello World\"\n"
     ],
     "language": "python",
     "metadata": {},
     "outputs": [
      {
       "output_type": "stream",
       "stream": "stdout",
       "text": [
        "Hello World\n",
        "Hello World\n",
        "Hello World\n",
        "Hello World\n",
        "Hello World\n"
       ]
      }
     ],
     "prompt_number": 35
    },
    {
     "cell_type": "code",
     "collapsed": false,
     "input": [],
     "language": "python",
     "metadata": {},
     "outputs": []
    },
    {
     "cell_type": "markdown",
     "metadata": {},
     "source": []
    }
   ],
   "metadata": {}
  }
 ]
}