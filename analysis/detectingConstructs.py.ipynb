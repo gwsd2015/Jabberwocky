{
 "metadata": {
  "name": "",
  "signature": "sha256:6e263df617a741cbd325ff2da7bd4139e6d0269ab485f4a10d053d9e43c4dfb4"
 },
 "nbformat": 3,
 "nbformat_minor": 0,
 "worksheets": [
  {
   "cells": [
    {
     "cell_type": "code",
     "collapsed": false,
     "input": [
      "import os\n",
      "import sys\n",
      "import subprocess\n",
      "rule = \"for(expression)\""
     ],
     "language": "python",
     "metadata": {},
     "outputs": [],
     "prompt_number": 206
    },
    {
     "cell_type": "code",
     "collapsed": false,
     "input": [
      "#Open us all of information about file\n",
      "f = open(\"HelloWorld.java\",\"r\")\n",
      "program = []\n",
      "for line in f:\n",
      "    program.append(line)\n",
      "#print program[14]\n",
      "identifyFor(program[14],rule)"
     ],
     "language": "python",
     "metadata": {},
     "outputs": [
      {
       "output_type": "stream",
       "stream": "stdout",
       "text": [
        "        for(int i = 0 ; i < hello.length(); i ++ )\n",
        "\n"
       ]
      }
     ],
     "prompt_number": 207
    },
    {
     "cell_type": "code",
     "collapsed": false,
     "input": [
      "def identifyFor(line,rule):\n",
      "    print line"
     ],
     "language": "python",
     "metadata": {},
     "outputs": [],
     "prompt_number": 208
    },
    {
     "cell_type": "raw",
     "metadata": {},
     "source": [
      "This data structure is used to store lines and detect whether an item is a construct."
     ]
    },
    {
     "cell_type": "code",
     "collapsed": false,
     "input": [
      "class CodeLine:\n",
      "    def __init__(self,line):\n",
      "        self.line = \"\".join(line.split())\n",
      "        self.children = []\n",
      "        self.expType=\"\"\n",
      "        \n",
      "    def identify(self,exp):\n",
      "        #for i in range(exp.index):\n",
      "            #if self.line[i] != exp.line[i]:\n",
      "                #return 0\n",
      "        for i in range(len(exp)):\n",
      "            index = exp[i].index\n",
      "            if( self.line[0:index] == exp[i].line[0:index]):\n",
      "                self.expType = exp[i].line\n",
      "        #print self.expType\n",
      "        if(self.expType == \"\"):\n",
      "            return 0\n",
      "        return 1\n",
      "      \n",
      "    def printCode(self):\n",
      "        return self.line\n",
      "        #print 1"
     ],
     "language": "python",
     "metadata": {},
     "outputs": [],
     "prompt_number": 209
    },
    {
     "cell_type": "code",
     "collapsed": false,
     "input": [
      "class Construct:\n",
      "    def __init__(self,line,index):\n",
      "        self.line = \"\".join(line.split())\n",
      "        self.children = []\n",
      "        self.index = index\n",
      "        \n",
      "    def printConstruct(self):\n",
      "        print self.line\n",
      "        "
     ],
     "language": "python",
     "metadata": {},
     "outputs": [],
     "prompt_number": 210
    },
    {
     "cell_type": "heading",
     "level": 3,
     "metadata": {},
     "source": [
      "s = \"\\tVery cool Man \\n\"\n",
      "x = \"\".join(s.split())\n",
      "print x"
     ]
    },
    {
     "cell_type": "code",
     "collapsed": false,
     "input": [
      "line1 = CodeLine(\"for(int i = 0 ; i < hello.length(); i ++ )\")\n",
      "forLoop = Construct(\"for(exp)\",4)\n",
      "ifExp = Construct(\"if(exp)\",3)\n",
      "whileExp = Construct(\"while(exp)\",6)\n",
      "doExp = Construct(\"do{\",3)\n",
      "\n",
      "constructList = []\n",
      "constructList.append(Construct(\"for(exp)\",4))\n",
      "constructList.append(Construct(\"if(exp)\",3))\n",
      "constructList.append(Construct(\"while(exp)\",6))\n",
      "constructList.append(Construct(\"do{\",3))\n"
     ],
     "language": "python",
     "metadata": {},
     "outputs": [],
     "prompt_number": 211
    },
    {
     "cell_type": "code",
     "collapsed": false,
     "input": [
      "line1.printCode()\n",
      "forLoop.printConstruct()"
     ],
     "language": "python",
     "metadata": {},
     "outputs": [
      {
       "output_type": "stream",
       "stream": "stdout",
       "text": [
        "for(exp)\n"
       ]
      }
     ],
     "prompt_number": 212
    },
    {
     "cell_type": "code",
     "collapsed": false,
     "input": [
      "print line1.identify(constructList)\n",
      "print line1.expType\n",
      "#line1.identify(ifExp)\n",
      "#line1.identify(doExp)"
     ],
     "language": "python",
     "metadata": {},
     "outputs": [
      {
       "output_type": "stream",
       "stream": "stdout",
       "text": [
        "1\n",
        "for(exp)\n"
       ]
      }
     ],
     "prompt_number": 213
    },
    {
     "cell_type": "code",
     "collapsed": false,
     "input": [
      "def identifyConstructs(code,constructs):\n",
      "    program = []\n",
      "    counters = [0,0,0,0,0]\n",
      "    for i in range(len(code)):\n",
      "        if(\"\".join(code[i].split()) == \"\"):\n",
      "            continue\n",
      "        program.append(CodeLine(code[i]))\n",
      "    #for i in range(len(program)):\n",
      "    for i in range(len(program)):\n",
      "        ret = program[i].identify(constructs)\n",
      "        if(ret == 1):\n",
      "            val = ExpType(program[i].expType)\n",
      "            counters[val] = counters[val]+1\n",
      "    return counters  "
     ],
     "language": "python",
     "metadata": {},
     "outputs": [],
     "prompt_number": 214
    },
    {
     "cell_type": "code",
     "collapsed": false,
     "input": [
      "#print program\n",
      "res = identifyConstructs(program,constructList)\n",
      "print \"Totals:\"\n",
      "for i in range(len(constructList)):\n",
      "    print \"\\t\"+constructList[i].line+\": \"+str(res[i+1])"
     ],
     "language": "python",
     "metadata": {},
     "outputs": [
      {
       "output_type": "stream",
       "stream": "stdout",
       "text": [
        "Totals:\n",
        "\tfor(exp): 2\n",
        "\tif(exp): 3\n",
        "\twhile(exp): 2\n",
        "\tdo{: 1\n"
       ]
      }
     ],
     "prompt_number": 215
    },
    {
     "cell_type": "code",
     "collapsed": false,
     "input": [
      "def ExpType(x):\n",
      "    return {\n",
      "        'for(exp)': 1,\n",
      "        'if(exp)': 2,\n",
      "        'while(exp)': 3,\n",
      "        'do{':4,\n",
      "    }[x]"
     ],
     "language": "python",
     "metadata": {},
     "outputs": [],
     "prompt_number": 216
    },
    {
     "cell_type": "code",
     "collapsed": false,
     "input": [],
     "language": "python",
     "metadata": {},
     "outputs": [],
     "prompt_number": 216
    },
    {
     "cell_type": "code",
     "collapsed": false,
     "input": [],
     "language": "python",
     "metadata": {},
     "outputs": []
    }
   ],
   "metadata": {}
  }
 ]
}