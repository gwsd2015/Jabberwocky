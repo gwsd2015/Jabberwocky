{
 "metadata": {
  "name": "",
  "signature": "sha256:04e68f7576e886096598e868f06cb444627b7a862439d5fc132354ca5aa1d346"
 },
 "nbformat": 3,
 "nbformat_minor": 0,
 "worksheets": [
  {
   "cells": [
    {
     "cell_type": "code",
     "collapsed": false,
     "input": [
      "import os\n",
      "import sys\n",
      "import subprocess\n",
      "rule = \"for(expression)\"\n",
      "visibility = [\"public\",\"private\",\"protected\"]\n",
      "modifier = [\"static\",\"final\",\"native\",\"synchronized\",\"abstract\",\"threadsafe\",\"transient\"]\n",
      "types= [\"boolean\",\"byte\",\"char\",\"short\",\"int\",\"float\",\"long\",\"double\",\"class_name\",\"void\"]"
     ],
     "language": "python",
     "metadata": {},
     "outputs": [],
     "prompt_number": 54
    },
    {
     "cell_type": "code",
     "collapsed": false,
     "input": [
      "def identifyFor(line,rule):\n",
      "    print line"
     ],
     "language": "python",
     "metadata": {},
     "outputs": [],
     "prompt_number": 36
    },
    {
     "cell_type": "code",
     "collapsed": false,
     "input": [
      "#Open us all of information about file\n",
      "file = \"/Users/lucasch/Desktop/cs1112/lucasch-out11/WordMorph.java\"\n",
      "f = open(file,\"r\")\n",
      "program = []\n",
      "for line in f:\n",
      "    program.append(line)\n",
      "#print program[15]\n",
      "identifyFor(program[14],rule)"
     ],
     "language": "python",
     "metadata": {},
     "outputs": [
      {
       "output_type": "stream",
       "stream": "stdout",
       "text": [
        "        \n",
        "\n"
       ]
      }
     ],
     "prompt_number": 37
    },
    {
     "cell_type": "raw",
     "metadata": {},
     "source": [
      "This data structure is used to store lines and detect whether an item is a construct."
     ]
    },
    {
     "cell_type": "code",
     "collapsed": false,
     "input": [
      "class CodeLine:\n",
      "    def __init__(self,line):\n",
      "        self.line = \"\".join(line.split())\n",
      "        self.children = []\n",
      "        self.expType=\"\"\n",
      "        \n",
      "    def identify(self,exp):\n",
      "        #for i in range(exp.index):\n",
      "            #if self.line[i] != exp.line[i]:\n",
      "                #return 0\n",
      "        for i in range(len(exp)):\n",
      "            index = exp[i].index\n",
      "            if( self.line[0:index] == exp[i].line[0:index]):\n",
      "                self.expType = exp[i].line\n",
      "        #print self.expType\n",
      "        if(self.expType == \"\"):\n",
      "            return 0\n",
      "        return 1\n",
      "      \n",
      "    def printCode(self):\n",
      "        return self.line\n",
      "        #print 1"
     ],
     "language": "python",
     "metadata": {},
     "outputs": [],
     "prompt_number": 38
    },
    {
     "cell_type": "code",
     "collapsed": false,
     "input": [
      "class Construct:\n",
      "    def __init__(self,line,index):\n",
      "        self.line = \"\".join(line.split())\n",
      "        self.children = []\n",
      "        self.index = index\n",
      "        \n",
      "    def printConstruct(self):\n",
      "        print self.line\n",
      "        "
     ],
     "language": "python",
     "metadata": {},
     "outputs": [],
     "prompt_number": 39
    },
    {
     "cell_type": "code",
     "collapsed": false,
     "input": [
      "s = \"\\tVery cool Man \\n\"\n",
      "x = \"\".join(s.split())\n",
      "print x"
     ],
     "language": "python",
     "metadata": {},
     "outputs": [
      {
       "output_type": "stream",
       "stream": "stdout",
       "text": [
        "VerycoolMan\n"
       ]
      }
     ],
     "prompt_number": 40
    },
    {
     "cell_type": "code",
     "collapsed": false,
     "input": [
      "line1 = CodeLine(\"for(int i = 0 ; i < hello.length(); i ++ )\")\n",
      "forLoop = Construct(\"for(exp)\",4)\n",
      "ifExp = Construct(\"if(exp)\",3)\n",
      "whileExp = Construct(\"while(exp)\",6)\n",
      "doExp = Construct(\"do{\",3)\n",
      "\n",
      "constructList = []\n",
      "constructList.append(Construct(\"for(exp)\",4))\n",
      "constructList.append(Construct(\"if(exp)\",3))\n",
      "constructList.append(Construct(\"while(exp)\",6))\n",
      "constructList.append(Construct(\"do{\",3))\n"
     ],
     "language": "python",
     "metadata": {},
     "outputs": [],
     "prompt_number": 41
    },
    {
     "cell_type": "code",
     "collapsed": false,
     "input": [],
     "language": "python",
     "metadata": {},
     "outputs": [],
     "prompt_number": 41
    },
    {
     "cell_type": "code",
     "collapsed": false,
     "input": [
      "line1.printCode()\n",
      "forLoop.printConstruct()"
     ],
     "language": "python",
     "metadata": {},
     "outputs": [
      {
       "output_type": "stream",
       "stream": "stdout",
       "text": [
        "for(exp)\n"
       ]
      }
     ],
     "prompt_number": 42
    },
    {
     "cell_type": "code",
     "collapsed": false,
     "input": [
      "print line1.identify(constructList)\n",
      "print line1.expType\n",
      "#line1.identify(ifExp)\n",
      "#line1.identify(doExp)"
     ],
     "language": "python",
     "metadata": {},
     "outputs": [
      {
       "output_type": "stream",
       "stream": "stdout",
       "text": [
        "1\n",
        "for(exp)\n"
       ]
      }
     ],
     "prompt_number": 43
    },
    {
     "cell_type": "code",
     "collapsed": false,
     "input": [
      "def ExpType(x):\n",
      "    return {\n",
      "        'for(exp)': 1,\n",
      "        'if(exp)': 2,\n",
      "        'while(exp)': 3,\n",
      "        'do{':4,\n",
      "    }[x]"
     ],
     "language": "python",
     "metadata": {},
     "outputs": [],
     "prompt_number": 44
    },
    {
     "cell_type": "code",
     "collapsed": false,
     "input": [
      "def identifyConstructs(code,constructs):\n",
      "    program = []\n",
      "    counters = [0,0,0,0,0]\n",
      "    for i in range(len(code)):\n",
      "        if(\"\".join(code[i].split()) == \"\"):\n",
      "            continue\n",
      "        program.append(CodeLine(code[i]))\n",
      "    #for i in range(len(program)):\n",
      "    for i in range(len(program)):\n",
      "        ret = program[i].identify(constructs)\n",
      "        if(ret == 1):\n",
      "            val = ExpType(program[i].expType)\n",
      "            counters[val] = counters[val]+1\n",
      "    return counters  "
     ],
     "language": "python",
     "metadata": {},
     "outputs": [],
     "prompt_number": 45
    },
    {
     "cell_type": "code",
     "collapsed": false,
     "input": [
      "#print program\n",
      "res = identifyConstructs(program,constructList)\n",
      "print \"Totals:\"\n",
      "for i in range(len(constructList)):\n",
      "    print \"\\t\"+constructList[i].line+\": \"+str(res[i+1])"
     ],
     "language": "python",
     "metadata": {},
     "outputs": [
      {
       "output_type": "stream",
       "stream": "stdout",
       "text": [
        "Totals:\n",
        "\tfor(exp): 5\n",
        "\tif(exp): 5\n",
        "\twhile(exp): 0\n",
        "\tdo{: 0\n"
       ]
      }
     ],
     "prompt_number": 46
    },
    {
     "cell_type": "code",
     "collapsed": false,
     "input": [
      "def identifyMethods(code):\n",
      "    global modifier\n",
      "    global types\n",
      "    program = code.split()\n",
      "    for i in range(len(modifier)):\n",
      "        if(modifier[i] in program[0]):\n",
      "            print \"True\""
     ],
     "language": "python",
     "metadata": {},
     "outputs": [],
     "prompt_number": 47
    },
    {
     "cell_type": "code",
     "collapsed": false,
     "input": [
      "identifyMethods(\"public static void main(){\")"
     ],
     "language": "python",
     "metadata": {},
     "outputs": [
      {
       "output_type": "stream",
       "stream": "stdout",
       "text": [
        "True\n"
       ]
      }
     ],
     "prompt_number": 48
    },
    {
     "cell_type": "code",
     "collapsed": false,
     "input": [
      "for i in range(5):\n",
      "    print \"Hello World\"\n"
     ],
     "language": "python",
     "metadata": {},
     "outputs": [
      {
       "output_type": "stream",
       "stream": "stdout",
       "text": [
        "Hello World\n",
        "Hello World\n",
        "Hello World\n",
        "Hello World\n",
        "Hello World\n"
       ]
      }
     ],
     "prompt_number": 49
    },
    {
     "cell_type": "code",
     "collapsed": false,
     "input": [
      "def countLines(lines):\n",
      "    print lines"
     ],
     "language": "python",
     "metadata": {},
     "outputs": [],
     "prompt_number": 50
    },
    {
     "cell_type": "code",
     "collapsed": false,
     "input": [
      "countLines(program)"
     ],
     "language": "python",
     "metadata": {},
     "outputs": [
      {
       "output_type": "stream",
       "stream": "stdout",
       "text": [
        "['\\n', 'import java.util.*;\\n', '\\n', 'public class WordMorph {\\n', '\\n', '    static String[] words;                 // English dictionary (lowercase).\\n', '\\n', '    static LinkedList<LinkedList<String>> results;     // The result.\\n', '\\n', '\\n', '    static LinkedList<LinkedList<String>> findLinks (String startWord, String endWord, int numSteps)\\n', '    {\\n', '        // Read in the dictionary.\\n', '        words = WordTool.getDictionary();\\n', '        \\n', '        results = new LinkedList<LinkedList<String>>();\\n', '\\n', '        // INSERT PART OF YOUR CODE HERE to call the recursive method\\n', '\\t\\tLinkedList<String> list1=new LinkedList<String>();\\n', '\\t\\tlist1.add(startWord);\\n', '\\t\\trecursive(startWord,endWord,numSteps,list1);\\n', '        return results;\\n', '    }\\n', '\\n', '\\n', '    // INSERT YOUR CODE HERE (for the recursive method)\\n', '\\tstatic void recursive(String startWord, String endWord, int numSteps, LinkedList<String>list1)\\n', '\\t{\\n', '\\t\\t//break out case: done with all steps\\n', '\\t\\tif(numSteps==0)\\n', '\\t\\t{ \\n', '\\t\\t\\tif(startWord.equals(endWord))\\n', '\\t\\t\\t{\\n', '\\t\\t\\t\\t//makes a copy of the list and then adds it to results\\n', '\\t\\t\\t\\tresults.add(copy(list1));\\n', '\\t\\t\\t}\\n', '\\t\\t\\treturn;\\n', '\\t\\t\\t\\n', '\\t\\t}\\n', '\\t\\t//scans through dictionary\\n', '\\t\\tfor(int i=0; i<words.length; i++)\\n', '\\t\\t{\\n', '\\t\\t\\t//tests if they are off by one and the list doesnt contain it yet\\n', '\\t\\t\\tif(offByOne(startWord,words[i]) && !list1.contains(words[i]))\\n', '\\t\\t\\t{\\n', '\\t\\t\\t\\t//adds to the list\\n', '\\t\\t\\t\\tlist1.add(words[i]);\\n', '\\t\\t\\t\\t//recursively searches for the next word\\n', '\\t\\t\\t\\trecursive(words[i],endWord,numSteps-1,list1);\\n', '\\t\\t\\t\\t//undoes previous ones\\n', '\\t\\t\\t\\tlist1.removeLast();\\n', '\\t\\t\\t}\\n', '\\t\\t}\\n', '\\t\\t\\n', '\\t}\\n', '\\n', '    static boolean offByOne (String word1, String word2) \\n', '    {\\n', '        // INSERT YOUR CODE HERE.\\n', '\\t\\t//checks to see if they are not equal to the same length\\n', '\\t\\tif(word1.length()!=word2.length())\\n', '\\t\\t{\\n', '\\t\\t\\treturn false;\\n', '\\t\\t}\\n', '\\t\\t//creates a counter to keep track of number of differences in the letter.\\n', '\\t\\tint letterCount=0;\\n', '        // Return true if the two words are of the same length\\n', '        // and differ by exactly one letter.\\n', '\\t\\t//creates two char arrays to compare the letters\\n', '\\t\\tchar[] wordOne=word1.toCharArray();\\n', '\\t\\tchar[] wordTwo=word2.toCharArray();\\n', '\\t\\t//scans through and compares the two words to eachother\\n', '\\t\\tfor(int i=0; i<wordOne.length; i++)\\n', '\\t\\t\\t{\\n', '\\t\\t\\t\\tif(wordOne[i]!=wordTwo[i])\\n', '\\t\\t\\t\\t{\\n', '\\t\\t\\t\\t\\tletterCount++;\\n', '\\t\\t\\t\\t}\\n', '\\t\\t\\t}\\n', '\\t\\t//returns true if count differs by one and false if count differs by anything else\\n', '\\t\\treturn (letterCount==1);\\n', '    }\\n', '    \\n', '    \\n', '\\n', '    // You might or might not find this method useful.\\n', '\\n', '    static LinkedList<String> copy (LinkedList<String> list)\\n', '    {\\n', '        LinkedList<String> copyList = new LinkedList<String>();\\n', '        for (String s: list) {\\n', '            copyList.add (s);\\n', '        }\\n', '        return copyList;\\n', '    }\\n', '    \\n', '\\n', '    public static void main (String[] argv)\\n', '    {\\n', '\\t\\tboolean test=false;\\n', '        // Test \\n', '        LinkedList<LinkedList<String>> results = findLinks (\"east\", \"west\", 4);\\n', '        print (results);\\n', '\\n', '        // Test 2:\\n', '        results = findLinks (\"lead\", \"gold\", 4);\\n', '        print (results);\\n', '\\n', '        // Test 3:\\n', '        results = findLinks (\"cat\", \"dog\", 4);\\n', '        print (results);\\n', '\\t\\t\\n', '\\t\\t//test 4: tests for mismatched sizes\\n', '\\t\\ttest=offByOne(\"cast\",\"dogged\");\\n', '\\t\\tSystem.out.println(\"Should be false: \"+test);\\n', '\\t\\t\\n', '\\t\\t//test 4: tests for mismatched sizes\\n', '\\t\\ttest=offByOne(\"cast\",\"cart\");\\n', '\\t\\tSystem.out.println(\"Should be true: \"+test);\\n', '\\t\\t\\n', '    }\\n', '\\n', '    \\n', '    static void print (LinkedList<LinkedList<String>> listOfLists)\\n', '    {\\n', '        int count = 0;\\n', '        for (LinkedList<String> list: listOfLists) {\\n', '            for (String s: list) {\\n', '                System.out.print (\"  \" + s);\\n', '            }\\n', '            System.out.println ();\\n', '            count ++;\\n', '        }\\n', '        System.out.println (\" => \" + count + \" different morphs\");\\n', '    }\\n', '    \\n', '\\n', '}\\n']\n"
       ]
      }
     ],
     "prompt_number": 51
    },
    {
     "cell_type": "code",
     "collapsed": false,
     "input": [
      "def identifyMethods(program,visible,modifier,types):\n",
      "    for i in range(len(visible)):\n",
      "        if visible[i] in program:\n",
      "            print visible[i] \n",
      "            break\n",
      "    for i in range(len(modifier)):\n",
      "        if modifier[i] in program:\n",
      "            print modifier[i]\n",
      "    for i in range(len(types)):\n",
      "        if types[i] in program:\n",
      "            print types[i]"
     ],
     "language": "python",
     "metadata": {},
     "outputs": [],
     "prompt_number": 53
    },
    {
     "cell_type": "code",
     "collapsed": false,
     "input": [
      "identifyMethods(\"public static void main\",visibility,modifier,types)"
     ],
     "language": "python",
     "metadata": {},
     "outputs": [
      {
       "output_type": "stream",
       "stream": "stdout",
       "text": [
        "public\n",
        "static\n",
        "void\n"
       ]
      }
     ],
     "prompt_number": 56
    },
    {
     "cell_type": "code",
     "collapsed": false,
     "input": [
      "line2 = \"public static void main(int hello, int y){};\"\n",
      "line2 = line2.split()\n",
      "print line2"
     ],
     "language": "python",
     "metadata": {},
     "outputs": [
      {
       "output_type": "stream",
       "stream": "stdout",
       "text": [
        "['public', 'static', 'void', 'main(int', 'hello,', 'int', 'y){};']\n"
       ]
      }
     ],
     "prompt_number": 60
    },
    {
     "cell_type": "code",
     "collapsed": false,
     "input": [],
     "language": "python",
     "metadata": {},
     "outputs": []
    }
   ],
   "metadata": {}
  }
 ]
}