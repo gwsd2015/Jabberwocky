{
 "metadata": {
  "name": "",
  "signature": "sha256:2db49a06c828695848c0f0bdaaeebf9e0704f3e60fd24e86907f952f37156361"
 },
 "nbformat": 3,
 "nbformat_minor": 0,
 "worksheets": [
  {
   "cells": [
    {
     "cell_type": "code",
     "collapsed": false,
     "input": [
      "import os\n",
      "import sys\n",
      "import subprocess\n",
      "import string\n",
      "rule = \"for(expression)\"\n",
      "visibility = [\"public\",\"private\",\"protected\"]\n",
      "modifier = [\"static\",\"final\",\"native\",\"synchronized\",\"abstract\",\"threadsafe\",\"transient\"]\n",
      "types= [\"boolean\",\"byte\",\"char\",\"short\",\"int\",\"float\",\"long\",\"double\",\"class_name\",\"void\"]"
     ],
     "language": "python",
     "metadata": {},
     "outputs": [],
     "prompt_number": 3
    },
    {
     "cell_type": "code",
     "collapsed": false,
     "input": [
      "def identifyFor(line,rule):\n",
      "    print line"
     ],
     "language": "python",
     "metadata": {},
     "outputs": [],
     "prompt_number": 4
    },
    {
     "cell_type": "code",
     "collapsed": false,
     "input": [
      "#Open us all of information about file\n",
      "#file = \"/Users/lucasch/Desktop/cs1112/lucasch-out11/WordMorph.java\"\n",
      "file = \"/home/lucasch/Documents/Code_drop/DigitSum.java\"\n",
      "f = open(file,\"r\")\n",
      "program = []\n",
      "for line in f:\n",
      "    program.append(line)\n",
      "#print program[15]\n",
      "identifyFor(program[14],rule)"
     ],
     "language": "python",
     "metadata": {},
     "outputs": [
      {
       "output_type": "stream",
       "stream": "stdout",
       "text": [
        "\t\tint N = getNums.nextInt();\n",
        "\n"
       ]
      }
     ],
     "prompt_number": 5
    },
    {
     "cell_type": "raw",
     "metadata": {},
     "source": [
      "This data structure is used to store lines and detect whether an item is a construct."
     ]
    },
    {
     "cell_type": "code",
     "collapsed": false,
     "input": [
      "class CodeLine:\n",
      "    def __init__(self,line):\n",
      "        self.line = \"\".join(line.split())\n",
      "        self.children = []\n",
      "        self.expType=\"\"\n",
      "        \n",
      "    def identify(self,exp):\n",
      "        #for i in range(exp.index):\n",
      "            #if self.line[i] != exp.line[i]:\n",
      "                #return 0\n",
      "        for i in range(len(exp)):\n",
      "            index = exp[i].index\n",
      "            if( self.line[0:index] == exp[i].line[0:index]):\n",
      "                self.expType = exp[i].line\n",
      "        #print self.expType\n",
      "        if(self.expType == \"\"):\n",
      "            return 0\n",
      "        return 1\n",
      "      \n",
      "    def printCode(self):\n",
      "        return self.line\n",
      "        #print 1"
     ],
     "language": "python",
     "metadata": {},
     "outputs": [],
     "prompt_number": 6
    },
    {
     "cell_type": "code",
     "collapsed": false,
     "input": [
      "class Construct:\n",
      "    def __init__(self,line,index):\n",
      "        self.line = \"\".join(line.split())\n",
      "        self.children = []\n",
      "        self.index = index\n",
      "        \n",
      "    def printConstruct(self):\n",
      "        print self.line\n",
      "        "
     ],
     "language": "python",
     "metadata": {},
     "outputs": [],
     "prompt_number": 7
    },
    {
     "cell_type": "code",
     "collapsed": false,
     "input": [
      "s = \"\\tVery cool Man \\n\"\n",
      "x = \"\".join(s.split())\n",
      "print x"
     ],
     "language": "python",
     "metadata": {},
     "outputs": [
      {
       "output_type": "stream",
       "stream": "stdout",
       "text": [
        "VerycoolMan\n"
       ]
      }
     ],
     "prompt_number": 8
    },
    {
     "cell_type": "code",
     "collapsed": false,
     "input": [
      "line1 = CodeLine(\"for(int i = 0 ; i < hello.length(); i ++ )\")\n",
      "forLoop = Construct(\"for(exp)\",4)\n",
      "ifExp = Construct(\"if(exp)\",3)\n",
      "whileExp = Construct(\"while(exp)\",6)\n",
      "doExp = Construct(\"do{\",3)\n",
      "\n",
      "constructList = []\n",
      "constructList.append(Construct(\"for(exp)\",4))\n",
      "constructList.append(Construct(\"if(exp)\",3))\n",
      "constructList.append(Construct(\"while(exp)\",6))\n",
      "constructList.append(Construct(\"do{\",3))\n"
     ],
     "language": "python",
     "metadata": {},
     "outputs": [],
     "prompt_number": 9
    },
    {
     "cell_type": "code",
     "collapsed": false,
     "input": [],
     "language": "python",
     "metadata": {},
     "outputs": [],
     "prompt_number": 9
    },
    {
     "cell_type": "code",
     "collapsed": false,
     "input": [
      "line1.printCode()\n",
      "forLoop.printConstruct()"
     ],
     "language": "python",
     "metadata": {},
     "outputs": [
      {
       "output_type": "stream",
       "stream": "stdout",
       "text": [
        "for(exp)\n"
       ]
      }
     ],
     "prompt_number": 10
    },
    {
     "cell_type": "code",
     "collapsed": false,
     "input": [
      "print line1.identify(constructList)\n",
      "print line1.expType\n",
      "#line1.identify(ifExp)\n",
      "#line1.identify(doExp)"
     ],
     "language": "python",
     "metadata": {},
     "outputs": [
      {
       "output_type": "stream",
       "stream": "stdout",
       "text": [
        "1\n",
        "for(exp)\n"
       ]
      }
     ],
     "prompt_number": 11
    },
    {
     "cell_type": "code",
     "collapsed": false,
     "input": [
      "def ExpType(x):\n",
      "    return {\n",
      "        'for(exp)': 1,\n",
      "        'if(exp)': 2,\n",
      "        'while(exp)': 3,\n",
      "        'do{':4,\n",
      "    }[x]"
     ],
     "language": "python",
     "metadata": {},
     "outputs": [],
     "prompt_number": 12
    },
    {
     "cell_type": "code",
     "collapsed": false,
     "input": [
      "def identifyConstructs(code,constructs):\n",
      "    program = []\n",
      "    counters = [0,0,0,0,0]\n",
      "    for i in range(len(code)):\n",
      "        if(\"\".join(code[i].split()) == \"\"):\n",
      "            continue\n",
      "        program.append(CodeLine(code[i]))\n",
      "    #for i in range(len(program)):\n",
      "    for i in range(len(program)):\n",
      "        ret = program[i].identify(constructs)\n",
      "        if(ret == 1):\n",
      "            val = ExpType(program[i].expType)\n",
      "            counters[val] = counters[val]+1\n",
      "    return counters  "
     ],
     "language": "python",
     "metadata": {},
     "outputs": [],
     "prompt_number": 13
    },
    {
     "cell_type": "code",
     "collapsed": false,
     "input": [
      "#print program\n",
      "res = identifyConstructs(program,constructList)\n",
      "print \"Totals:\"\n",
      "for i in range(len(constructList)):\n",
      "    print \"\\t\"+constructList[i].line+\": \"+str(res[i+1])"
     ],
     "language": "python",
     "metadata": {},
     "outputs": [
      {
       "output_type": "stream",
       "stream": "stdout",
       "text": [
        "Totals:\n",
        "\tfor(exp): 3\n",
        "\tif(exp): 1\n",
        "\twhile(exp): 1\n",
        "\tdo{: 0\n"
       ]
      }
     ],
     "prompt_number": 14
    },
    {
     "cell_type": "code",
     "collapsed": false,
     "input": [
      "def identifyMethods(code):\n",
      "    global modifier\n",
      "    global types\n",
      "    program = code.split()\n",
      "    for i in range(len(modifier)):\n",
      "        if(modifier[i] in program[0]):\n",
      "            print \"True\""
     ],
     "language": "python",
     "metadata": {},
     "outputs": [],
     "prompt_number": 15
    },
    {
     "cell_type": "code",
     "collapsed": false,
     "input": [
      "identifyMethods(\"public static void main(){\")"
     ],
     "language": "python",
     "metadata": {},
     "outputs": [],
     "prompt_number": 16
    },
    {
     "cell_type": "code",
     "collapsed": false,
     "input": [
      "for i in range(5):\n",
      "    print \"Hello World\"\n"
     ],
     "language": "python",
     "metadata": {},
     "outputs": [
      {
       "output_type": "stream",
       "stream": "stdout",
       "text": [
        "Hello World\n",
        "Hello World\n",
        "Hello World\n",
        "Hello World\n",
        "Hello World\n"
       ]
      }
     ],
     "prompt_number": 17
    },
    {
     "cell_type": "code",
     "collapsed": false,
     "input": [
      "def countLines(lines):\n",
      "    print lines"
     ],
     "language": "python",
     "metadata": {},
     "outputs": [],
     "prompt_number": 18
    },
    {
     "cell_type": "code",
     "collapsed": false,
     "input": [
      "countLines(program)"
     ],
     "language": "python",
     "metadata": {},
     "outputs": [
      {
       "output_type": "stream",
       "stream": "stdout",
       "text": [
        "['import java.util.*;\\n', 'import java.io.*;\\n', '\\n', 'public class DigitSum{\\n', '\\n', '    public static void main(String[] args){\\n', '\\ttry{\\n', '\\t    Scanner in = new Scanner(new File(\"digitSum.txt\"));\\n', '\\t    String line = in.nextLine();\\n', '\\t    int j =0;\\n', '\\t    while((line != null) && !line.equals(\"0\")){\\n', '\\t\\tif(j==10) break;\\n', '\\t\\tj++;\\n', '\\t\\tScanner getNums = new Scanner(line);\\n', '\\t\\tint N = getNums.nextInt();\\n', '\\t\\tint[] nums = new int[N];\\n', '\\t\\tfor(int i=0; i<N; i++){\\n', '\\t\\t    nums[i] = getNums.nextInt();\\n', '\\t\\t}\\n', '\\t\\tgetSum(N, nums);\\n', '\\t\\tline = in.nextLine();\\n', '\\t    }\\n', '\\t}catch(FileNotFoundException e){\\n', '\\t    e.printStackTrace();\\n', '\\t}\\n', '    }\\n', '\\n', '    public static void getSum(int N, int[] nums){\\n', \"\\t//TODO: 0's can't be 1st digit (should all go immediately after smallest nonzero digit)\\n\", '\\t//sort array of digits in ascending order\\n', '\\tArrays.sort(nums);\\n', '\\tSystem.out.println(\"N = \" + N + \" nums = \" + Arrays.toString(nums));\\n', '\\t//2 numbers\\n', '\\t//1st number (x) has N/2 (truncated) digits\\n', '\\tint xDigits = N/2;\\n', '\\tint x = 0;\\n', '\\t//2nd number (y) has N - N/2 digits\\n', '\\tint yDigits = N - (N/2);\\n', '\\tint y = 0;\\n', '\\n', '\\t//1st digit of y = nums[0]\\n', '\\t//1st digit of x = nums[1]\\n', '\\t//2nd digit of y = nums[2]\\n', '\\t//....\\n', '\\t//y = nums[0] * 10^(yDigits-1) + nums[2] * 10^(yDigits-2) + nums[4]...\\n', '\\tint yPower = yDigits - 1;\\n', '\\tfor(int i=0; i<N; i+=2){\\n', '\\t    y += nums[i] * Math.pow(10, yPower);\\n', '\\t    yPower--;\\n', '\\t}\\n', '\\n', '\\t//x = nums[1] * 10^(xDigits-1) + nums[2] * 10^(xDigits-2) + nums[3]...\\n', '\\tint xPower = xDigits - 1;\\n', '\\tfor(int i=1; i<N; i+=2){\\n', '\\t    x += nums[i] * Math.pow(10, xPower);\\n', '\\t    xPower--;\\n', '\\t}\\n', '\\tSystem.out.println(x + \"+\" + y + \" = \" + (x+y));\\n', '    }\\n', '}\\n']\n"
       ]
      }
     ],
     "prompt_number": 19
    },
    {
     "cell_type": "code",
     "collapsed": false,
     "input": [
      "def identifyMethods(code,visible,modifier,types):\n",
      "    if \"//\" in code:\n",
      "        #print \"comment\"\n",
      "        return\n",
      "    method = \"\"\n",
      "    #print code\n",
      "    code_parse = code.split()\n",
      "    #print code_parse\n",
      "    if len(code_parse) < 2:\n",
      "        return\n",
      "    if code_parse[0] in visible:\n",
      "        method = method+\" \"+code_parse[0]\n",
      "        code_parse.pop(0)\n",
      "    counter = 0\n",
      "    if len(code_parse) < 2:\n",
      "        return\n",
      "    for i in range(len(code_parse)):\n",
      "        if code_parse[i] in modifier:\n",
      "            method= method + \" \" + code_parse[i]\n",
      "            counter = counter+1\n",
      "        else:\n",
      "            break\n",
      "    for i in range(counter):\n",
      "        code_parse.pop(0)\n",
      "    if len(code_parse)<2:\n",
      "        return\n",
      "    method = method +\" \"+ code_parse[0]\n",
      "    code_parse.pop(0)\n",
      "    methodName= \"\"\n",
      "    for i in range(len(code_parse)):\n",
      "        methodName= methodName+\" \"+code_parse[i]\n",
      "    \n",
      "    #print code+\" =====> \"+methodName\n",
      "    #methodName= methodName.replace(\" \",\"\")\n",
      "    #methodFront_temp = methodName.split(\"(\", 1)\n",
      "    #if len(methodFront_temp)<2:\n",
      "      #  return\n",
      "    #methodFront = methodFront_temp[0]\n",
      "    #methodMiddle_temp = methodFront_temp[1].split(\")\",1)\n",
      "    #if len(methodMiddle_temp)<2:\n",
      "     #   return\n",
      "    #methodMiddle = methodMiddle_temp[0]\n",
      "    #methodBack = methodMiddle_temp[1] \n",
      "    \n",
      "    #print \"==> \"+method+\" \"+methodName\n",
      "    #print \"Front ==> \"\n",
      "    #print methodFront\n",
      "    #print \"Middle ==>\"\n",
      "    #print methodMiddle\n",
      "    #print \"Back ==>\"\n",
      "    #print methodBack\n",
      "    \n",
      "    \n",
      "    #print methodName\n",
      "    methodFront = \"\"\n",
      "    methodBack = \"\"\n",
      "    methodMiddle = \"\"\n",
      "    x = string.find(methodName,\"(\")\n",
      "    if  x != -1:\n",
      "        methodFront = methodName[0:x+1]\n",
      "        #print methodFront\n",
      "    y = string.find(methodName,\")\")\n",
      "    if y != -1:\n",
      "        methodMiddle= methodName[x+1:y]\n",
      "        methodBack = methodName[y:]\n",
      "    \n",
      "    methods = [methodFront,methodMiddle,methodBack]\n",
      "    #print methods\n",
      "    if \")\" in methods[2] and \"(\" in methods[0]:\n",
      "        print methods\n",
      "    #if(methodBack == \"\" or methodBack == \"{\"):\n",
      "     #   print \"Method found\"\n",
      "    #print \"\\n\\n\\n\"\n",
      "    #if(\"(\" in methodName and \")\" in methodName):\n",
      "        #print \"Method Detected: \"+method+\" \"+methodName\n",
      "    #methodName_parse = methodName.split([\"(\",\")\"])\n",
      "    #print methodName_parse\n",
      "    #if (\"(\" in code_parse[0] ) != 0 or ( len(code_parse) >2 and(\"(\" in code_parse[1])):\n",
      "        #method = method +\" \"+ code_parse[0]\n",
      "        #print \"Method detected\"\n",
      "        #print method\n",
      "    "
     ],
     "language": "python",
     "metadata": {},
     "outputs": [],
     "prompt_number": 20
    },
    {
     "cell_type": "code",
     "collapsed": false,
     "input": [
      "#identifyMethods(\"main(String[] args)\",visibility,modifier,types)\n",
      "for i in range(len(program)):\n",
      "    identifyMethods(program[i],visibility,modifier,types)"
     ],
     "language": "python",
     "metadata": {},
     "outputs": [
      {
       "output_type": "stream",
       "stream": "stdout",
       "text": [
        "[' main(', 'String[] args', '){']\n",
        "[' in = new Scanner(', 'new File(\"digitSum.txt\"', '));']\n",
        "[' line = in.nextLine(', '', ');']\n",
        "[' != null) && !line.equals(', '', ') && !line.equals(\"0\")){']\n",
        "[' getNums = new Scanner(', 'line', ');']\n",
        "[' N = getNums.nextInt(', '', ');']\n",
        "[' = getNums.nextInt(', '', ');']\n",
        "[' = in.nextLine(', '', ');']\n",
        "[' getSum(', 'int N, int[] nums', '){']\n",
        "[' = \" + N + \" nums = \" + Arrays.toString(', 'nums', '));']\n",
        "[' yDigits = N - (', 'N/2', ');']\n",
        "[' += nums[i] * Math.pow(', '10, yPower', ');']\n",
        "[' += nums[i] * Math.pow(', '10, xPower', ');']\n",
        "[' + \"+\" + y + \" = \" + (', 'x+y', '));']\n"
       ]
      }
     ],
     "prompt_number": 21
    },
    {
     "cell_type": "code",
     "collapsed": false,
     "input": [
      "line2 = \"public static void main(int hello, int y){};\"\n",
      "line2 = line2.split()\n",
      "print line2"
     ],
     "language": "python",
     "metadata": {},
     "outputs": [
      {
       "output_type": "stream",
       "stream": "stdout",
       "text": [
        "['public', 'static', 'void', 'main(int', 'hello,', 'int', 'y){};']\n"
       ]
      }
     ],
     "prompt_number": 22
    },
    {
     "cell_type": "code",
     "collapsed": false,
     "input": [
      "def identifyMeth(code,visible,modifier,types):\n",
      "    print code\n",
      "    start_index = string.find(code,\"(\")\n",
      "    #if code[start_index-1] == \" \":\n",
      "     #   print \"Theres a space\"\n",
      "      #  start_index = start_index - 2\n",
      "    start_index = start_index -1\n",
      "    #print start_index\n",
      "    space_flag_loop = True\n",
      "    space_flag = False\n",
      "    method_name = \"\"\n",
      "    while(space_flag_loop):\n",
      "        if start_index < 0:\n",
      "            return\n",
      "        if(code[start_index] == \" \"):\n",
      "            #print \"Entered\"\n",
      "            if space_flag:\n",
      "                #print str(start_index)+\": \"+code[start_index]\n",
      "                space_flag_loop = False \n",
      "            start_index = start_index -1\n",
      "        #elif(code[start_index] != \"\" and not space_flag):\n",
      "           # space_flag = True\n",
      "        else:\n",
      "            if code[start_index] != \" \" and not space_flag:\n",
      "                space_flag = True\n",
      "            method_name = method_name + code[start_index]\n",
      "            #print str(start_index)+\": \"+method_name\n",
      "            start_index = start_index -1\n",
      "    method_name = method_name[::-1]\n",
      "    print method_name\n",
      "    \n",
      "    space_flag_loop = True\n",
      "    space_flag = False\n",
      "    #while(space_flag_loop):\n",
      "        "
     ],
     "language": "python",
     "metadata": {},
     "outputs": [],
     "prompt_number": 62
    },
    {
     "cell_type": "code",
     "collapsed": false,
     "input": [
      "identifyMeth(\"public static void main    (String[] args)\",visibility,modifier,types)"
     ],
     "language": "python",
     "metadata": {},
     "outputs": [
      {
       "output_type": "stream",
       "stream": "stdout",
       "text": [
        "public static void main    (String[] args)\n",
        "main\n"
       ]
      }
     ],
     "prompt_number": 59
    },
    {
     "cell_type": "code",
     "collapsed": false,
     "input": [],
     "language": "python",
     "metadata": {},
     "outputs": [],
     "prompt_number": 26
    },
    {
     "cell_type": "code",
     "collapsed": false,
     "input": [],
     "language": "python",
     "metadata": {},
     "outputs": [],
     "prompt_number": 81
    },
    {
     "cell_type": "code",
     "collapsed": false,
     "input": [],
     "language": "python",
     "metadata": {},
     "outputs": []
    }
   ],
   "metadata": {}
  }
 ]
}